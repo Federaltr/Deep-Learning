{
  "cells": [
    {
      "cell_type": "markdown",
      "metadata": {
        "id": "jkdLdV8Dsl88"
      },
      "source": [
        "___\n",
        "\n",
        "<p style=\"text-align: center;\"><img src=\"https://docs.google.com/uc?id=1lY0Uj5R04yMY3-ZppPWxqCr5pvBLYPnV\" class=\"img-fluid\" alt=\"CLRSWY\"></p>\n",
        "\n",
        "___"
      ]
    },
    {
      "cell_type": "markdown",
      "metadata": {
        "id": "CqyKl6OBsl9A"
      },
      "source": [
        "<h1 style=\"text-align: center;\">Deep Learning<br><br>Session - 7<br><br>Image Classification with CNN<br><br>Malaria Data<br><h1>"
      ]
    },
    {
      "cell_type": "markdown",
      "metadata": {
        "id": "NgJ-_SBHsl9B"
      },
      "source": [
        "\n",
        "# Dataset Info\n",
        "\n",
        "The dataset contains 2 folders - 'parasitized', 'uninfected'\n",
        "\n",
        "And a total of 27,558 images.\n",
        "\n",
        "This Dataset is taken from the official NIH Website: https://ceb.nlm.nih.gov/repositories/malaria-datasets/ "
      ]
    },
    {
      "cell_type": "markdown",
      "metadata": {
        "id": "CMrNns6kobX7"
      },
      "source": [
        "# Import Libraries and Export Images from Zip_File"
      ]
    },
    {
      "cell_type": "code",
      "execution_count": null,
      "metadata": {
        "id": "ULUCJSJzsl9C"
      },
      "outputs": [],
      "source": [
        "import os\n",
        "import numpy as np\n",
        "import pandas as pd\n",
        "import matplotlib.pyplot as plt\n",
        "import seaborn as sns\n",
        "from matplotlib.image import imread\n",
        "\n",
        "#import warnings\n",
        "#warnings.filterwarnings(\"ignore\")\n",
        "#warnings.warn(\"this will not show\")\n",
        "\n",
        "plt.rcParams[\"figure.figsize\"] = (10,6)\n",
        "\n",
        "sns.set_style(\"whitegrid\")\n",
        "pd.set_option('display.float_format', lambda x: '%.3f' % x)\n",
        "\n",
        "# Set it None to display all rows in the dataframe\n",
        "# pd.set_option('display.max_rows', None)\n",
        "\n",
        "# Set it to None to display all columns in the dataframe\n",
        "pd.set_option('display.max_columns', None)"
      ]
    },
    {
      "cell_type": "code",
      "execution_count": null,
      "metadata": {
        "colab": {
          "base_uri": "https://localhost:8080/"
        },
        "id": "eBfqbn-TgoA4",
        "outputId": "02174317-5bdd-4eb0-ab2b-610ca5878e43"
      },
      "outputs": [
        {
          "output_type": "execute_result",
          "data": {
            "text/plain": [
              "[PhysicalDevice(name='/physical_device:GPU:0', device_type='GPU')]"
            ]
          },
          "metadata": {},
          "execution_count": 2
        }
      ],
      "source": [
        "import tensorflow as tf\n",
        "\n",
        "tf.config.list_physical_devices(\"GPU\")"
      ]
    },
    {
      "cell_type": "code",
      "source": [
        "#import gdown\n",
        "#url = 'https://drive.google.com/u/0/uc?id=1wtZvloOKYdbEvrm4vBXhTUFnLy7ejR5H&export=download'\n",
        "# output = 'cell_images.zip' # colab\n",
        "#output = '/content/drive/MyDrive/Colab Notebooks/cell_images.zip' # drive\n",
        "#gdown.download(url, output, quiet=False)"
      ],
      "metadata": {
        "id": "bwZYkAONovMO"
      },
      "execution_count": null,
      "outputs": []
    },
    {
      "cell_type": "code",
      "execution_count": null,
      "metadata": {
        "colab": {
          "base_uri": "https://localhost:8080/"
        },
        "id": "GnnB7Iigsl9E",
        "outputId": "ea774735-5753-45ec-f0e5-67db37c14a52"
      },
      "outputs": [
        {
          "output_type": "stream",
          "name": "stdout",
          "text": [
            "Mounted at /content/drive\n"
          ]
        }
      ],
      "source": [
        "from google.colab import drive\n",
        "drive.mount('/content/drive')"
      ]
    },
    {
      "cell_type": "code",
      "execution_count": null,
      "metadata": {
        "id": "HKxrKtV5H77z"
      },
      "outputs": [],
      "source": [
        "import zipfile\n",
        "\n",
        "# Unzip the file\n",
        "zip_ref = zipfile.ZipFile(\"/content/drive/MyDrive/Colab Notebooks/Data/cell_images.zip\", \"r\")\n",
        "zip_ref.extractall()\n",
        "zip_ref.close()"
      ]
    },
    {
      "cell_type": "markdown",
      "metadata": {
        "id": "YTyh7iXXsl9E"
      },
      "source": [
        "# Recognizing and Understanding Data"
      ]
    },
    {
      "cell_type": "code",
      "execution_count": null,
      "metadata": {
        "id": "BxDyRgOYdiDB"
      },
      "outputs": [],
      "source": [
        "my_data_dir = \"cell_images\""
      ]
    },
    {
      "cell_type": "code",
      "execution_count": null,
      "metadata": {
        "id": "AQVM6TYWsl9G",
        "colab": {
          "base_uri": "https://localhost:8080/"
        },
        "outputId": "bf82e7ed-eb2d-45ab-81b7-eac864e9a4d0"
      },
      "outputs": [
        {
          "output_type": "execute_result",
          "data": {
            "text/plain": [
              "['test', 'train']"
            ]
          },
          "metadata": {},
          "execution_count": 9
        }
      ],
      "source": [
        "# CONFIRM THAT THIS REPORTS BACK 'test', and 'train'\n",
        "os.listdir(my_data_dir) "
      ]
    },
    {
      "cell_type": "code",
      "execution_count": null,
      "metadata": {
        "id": "Chik3r8Ysl9H"
      },
      "outputs": [],
      "source": [
        "test_path = my_data_dir + '/test/'\n",
        "train_path = my_data_dir + '/train/'"
      ]
    },
    {
      "cell_type": "code",
      "execution_count": null,
      "metadata": {
        "id": "hO_ct-D3sl9H",
        "colab": {
          "base_uri": "https://localhost:8080/"
        },
        "outputId": "b9b7d95b-ea0d-4893-8933-739095e2a15d"
      },
      "outputs": [
        {
          "output_type": "execute_result",
          "data": {
            "text/plain": [
              "['uninfected', 'parasitized']"
            ]
          },
          "metadata": {},
          "execution_count": 11
        }
      ],
      "source": [
        "os.listdir(test_path)"
      ]
    },
    {
      "cell_type": "code",
      "execution_count": null,
      "metadata": {
        "id": "QN6kB1Ezsl9I",
        "colab": {
          "base_uri": "https://localhost:8080/"
        },
        "outputId": "01af0c7b-8297-459a-9acb-9f846c7ad960"
      },
      "outputs": [
        {
          "output_type": "execute_result",
          "data": {
            "text/plain": [
              "['uninfected', 'parasitized']"
            ]
          },
          "metadata": {},
          "execution_count": 12
        }
      ],
      "source": [
        "os.listdir(train_path)"
      ]
    },
    {
      "cell_type": "code",
      "execution_count": null,
      "metadata": {
        "id": "eC4GUi8Jp8Rq",
        "colab": {
          "base_uri": "https://localhost:8080/"
        },
        "outputId": "d9396f37-d32c-4b67-e4c4-3b3f0097da02"
      },
      "outputs": [
        {
          "output_type": "execute_result",
          "data": {
            "text/plain": [
              "['uninfected', 'parasitized']"
            ]
          },
          "metadata": {},
          "execution_count": 13
        }
      ],
      "source": [
        "classes = os.listdir(train_path)\n",
        "classes"
      ]
    },
    {
      "cell_type": "code",
      "execution_count": null,
      "metadata": {
        "id": "AYrKX5pqe8Ky",
        "colab": {
          "base_uri": "https://localhost:8080/"
        },
        "outputId": "1dfeb738-12d5-4cf3-b0e6-47b210b4e5d4"
      },
      "outputs": [
        {
          "output_type": "stream",
          "name": "stdout",
          "text": [
            "['parasitized' 'uninfected']\n"
          ]
        }
      ],
      "source": [
        "# Alternative method\n",
        "import pathlib\n",
        "\n",
        "data_dir = pathlib.Path(train_path) # turn our training path into a Python path\n",
        "class_names = np.array(sorted([item.name for item in data_dir.glob('*')])) # created a list of class_names from the subdirectories\n",
        "print(class_names)"
      ]
    },
    {
      "cell_type": "code",
      "execution_count": null,
      "metadata": {
        "id": "17L-4uqGptMS",
        "colab": {
          "base_uri": "https://localhost:8080/"
        },
        "outputId": "9c47f41f-ef82-4c32-d4dc-5e6558f27561"
      },
      "outputs": [
        {
          "output_type": "execute_result",
          "data": {
            "text/plain": [
              "array(['parasitized', 'uninfected'], dtype='<U11')"
            ]
          },
          "metadata": {},
          "execution_count": 15
        }
      ],
      "source": [
        "class_names"
      ]
    },
    {
      "cell_type": "markdown",
      "metadata": {
        "id": "mFVLtsmLsl9N"
      },
      "source": [
        "**Let's check how many images there are.**"
      ]
    },
    {
      "cell_type": "code",
      "execution_count": null,
      "metadata": {
        "id": "uYCWoVG1qPNo",
        "colab": {
          "base_uri": "https://localhost:8080/"
        },
        "outputId": "63e628df-ead8-4a40-f198-4ea9a1620309"
      },
      "outputs": [
        {
          "output_type": "execute_result",
          "data": {
            "text/plain": [
              "['C144P105ThinF_IMG_20151015_155004_cell_310.png',\n",
              " 'C39P4thinF_original_IMG_20150622_105253_cell_92.png',\n",
              " 'C186P147NThinF_IMG_20151203_150408_cell_184.png',\n",
              " 'C46P7ThinF_IMG_20151130_205828_cell_151.png',\n",
              " 'C45P6ThinF_IMG_20151130_155110_cell_207.png',\n",
              " 'C39P4thinF_original_IMG_20150622_105335_cell_27.png',\n",
              " 'C185P146ThinF_IMG_20151203_110344_cell_265.png',\n",
              " 'C48P9thinF_IMG_20150721_161243_cell_153.png',\n",
              " 'C172P133ThinF_IMG_20151119_155156_cell_255.png',\n",
              " 'C60P21thinF_IMG_20150804_113011_cell_2.png',\n",
              " 'C129P90ThinF_IMG_20151004_134636_cell_5.png',\n",
              " 'C37BP2_thinF_IMG_20150620_131423a_cell_93.png',\n",
              " 'C91P52ThinF_IMG_20150821_124311_cell_27.png',\n",
              " 'C39P4thinF_original_IMG_20150622_110115_cell_130.png',\n",
              " 'C132P93ThinF_IMG_20151004_153030_cell_1.png',\n",
              " 'C68P29N_ThinF_IMG_20150819_134504_cell_134.png',\n",
              " 'C80P41ThinF_IMG_20150817_111943_cell_19.png',\n",
              " 'C68P29N_ThinF_IMG_20150819_134830_cell_26.png',\n",
              " 'C186P147NThinF_IMG_20151203_150808_cell_132.png',\n",
              " 'C182P143NThinF_IMG_20151201_172759_cell_12.png',\n",
              " 'C48P9thinF_IMG_20150721_160406_cell_231.png',\n",
              " 'C132P93ThinF_IMG_20151004_153030_cell_11.png',\n",
              " 'C82P43ThinF_IMG_20150817_123500_cell_220.png',\n",
              " 'C49P10thinF_IMG_20150724_102951_cell_213.png',\n",
              " 'C50P11thinF_IMG_20150724_115749_cell_174.png',\n",
              " 'C80P41ThinF_IMG_20150817_112557_cell_12.png',\n",
              " 'C82P43ThinF_IMG_20150817_124418_cell_173.png',\n",
              " 'C132P93ThinF_IMG_20151004_151701_cell_174.png',\n",
              " 'C39P4thinF_original_IMG_20150622_113842_cell_1.png',\n",
              " 'C184P145ThinF_IMG_20151203_103114_cell_182.png',\n",
              " 'C131P92ThinF_IMG_20151004_151001_cell_121.png',\n",
              " 'C144P105ThinF_IMG_20151015_160529_cell_270.png',\n",
              " 'C39P4thinF_original_IMG_20150622_111326_cell_14.png',\n",
              " 'C80P41ThinF_IMG_20150817_110608_cell_157.png',\n",
              " 'C136P97ThinF_IMG_20151005_144727_cell_125.png',\n",
              " 'C116P77ThinF_IMG_20150930_171844_cell_120.png',\n",
              " 'C101P62ThinF_IMG_20150918_151942_cell_75.png',\n",
              " 'C120P81ThinF_IMG_20151002_130150_cell_209.png',\n",
              " 'C182P143NThinF_IMG_20151201_172257_cell_196.png',\n",
              " 'C117P78ThinF_IMG_20150930_220616_cell_94.png',\n",
              " 'C181P142ThinF_IMG_20151127_160539_cell_187.png',\n",
              " 'C179P140ThinF_IMG_20151127_153521_cell_171.png',\n",
              " 'C180P141NThinF_IMG_20151201_165423_cell_159.png',\n",
              " 'C60P21thinF_IMG_20150803_144003_cell_131.png',\n",
              " 'C137P98ThinF_IMG_20151005_163901_cell_82.png',\n",
              " 'C182P143NThinF_IMG_20151201_172257_cell_184.png',\n",
              " 'C39P4thinF_original_IMG_20150622_105102_cell_100.png',\n",
              " 'C167P128ReThinF_IMG_20151201_105354_cell_242.png',\n",
              " 'C129P90ThinF_IMG_20151004_134700_cell_30.png',\n",
              " 'C91P52ThinF_IMG_20150821_124739_cell_184.png',\n",
              " 'C59P20thinF_IMG_20150803_113809_cell_3.png',\n",
              " 'C63P24N_ThinF_IMG_20150818_143544_cell_175.png',\n",
              " 'C45P6ThinF_IMG_20151130_155110_cell_200.png',\n",
              " 'C70P31_ThinF_IMG_20150819_141436_cell_109.png',\n",
              " 'C99P60ThinF_IMG_20150918_141001_cell_102.png',\n",
              " 'C116P77ThinF_IMG_20150930_171635_cell_103.png',\n",
              " 'C184P145ThinF_IMG_20151203_102543_cell_167.png',\n",
              " 'C51AP12thinF_IMG_20150724_154330_cell_113.png',\n",
              " 'C116P77ThinF_IMG_20150930_171954_cell_103.png',\n",
              " 'C102P63ThinF_IMG_20150918_162511_cell_173.png',\n",
              " 'C68P29N_ThinF_IMG_20150819_134830_cell_12.png',\n",
              " 'C184P145ThinF_IMG_20151203_103637_cell_176.png',\n",
              " 'C156P117ThinF_IMG_20151115_154313_cell_276.png',\n",
              " 'C91P52ThinF_IMG_20150821_123314_cell_193.png',\n",
              " 'C97P58ThinF_IMG_20150917_152032_cell_172.png',\n",
              " 'C180P141NThinF_IMG_20151201_163751_cell_174.png',\n",
              " 'C163P124ThinF_IMG_20151116_111925_cell_283.png',\n",
              " 'C130P91ThinF_IMG_20151004_142109_cell_133.png',\n",
              " 'C118P79ThinF_IMG_20151002_105735_cell_136.png',\n",
              " 'C68P29N_ThinF_IMG_20150819_134712_cell_37.png',\n",
              " 'C174P135NThinF_IMG_20151127_135342_cell_222.png',\n",
              " 'C101P62ThinF_IMG_20150918_151149_cell_88.png',\n",
              " 'C84P45ThinF_IMG_20150818_101903_cell_5.png',\n",
              " 'C176P137NThinF_IMG_20151201_121030_cell_17.png',\n",
              " 'C68P29N_ThinF_IMG_20150819_134712_cell_47.png',\n",
              " 'C45P6ThinF_IMG_20151130_160135_cell_210.png',\n",
              " 'C51AP12thinF_IMG_20150724_154330_cell_126.png',\n",
              " 'C187P148NThinF_IMG_20151203_154503_cell_155.png',\n",
              " 'C120P81ThinF_IMG_20151002_125443_cell_136.png',\n",
              " 'C82P43ThinF_IMG_20150817_124728_cell_28.png',\n",
              " 'C184P145ThinF_IMG_20151203_104334_cell_25.png',\n",
              " 'C149P110ThinF_IMG_20151115_115154_cell_255.png',\n",
              " 'C100P61ThinF_IMG_20150918_144104_cell_166.png',\n",
              " 'C77P38ThinF_IMG_20150602_143524_cell_150.png',\n",
              " 'C130P91ThinF_IMG_20151004_142951_cell_156.png',\n",
              " 'C116P77ThinF_IMG_20150930_171558_cell_137.png',\n",
              " 'C148P109ThinF_IMG_20151115_112445_cell_244.png',\n",
              " 'C134P95ThinF_IMG_20151005_121952_cell_121.png',\n",
              " 'C101P62ThinF_IMG_20150918_151507_cell_64.png',\n",
              " 'C59P20thinF_IMG_20150803_111244_cell_188.png',\n",
              " 'C97P58ThinF_IMG_20150917_151512_cell_166.png',\n",
              " 'C187P148NThinF_IMG_20151203_153036_cell_127.png',\n",
              " 'C107P68ThinF_IMG_20150924_222415_cell_179.png',\n",
              " 'C97P58ThinF_IMG_20150917_151320_cell_145.png',\n",
              " 'C39P4thinF_original_IMG_20150622_113446_cell_5.png',\n",
              " 'C104P65ThinF_IMG_20150918_171751_cell_186.png',\n",
              " 'C62P23N_ThinF_IMG_20150818_132918_cell_195.png',\n",
              " 'C101P62ThinF_IMG_20150918_155026_cell_1.png',\n",
              " 'C142P103ThinF_IMG_20151005_221900_cell_195.png',\n",
              " 'C182P143NThinF_IMG_20151201_172842_cell_22.png',\n",
              " 'C82P43ThinF_IMG_20150817_125114_cell_8.png',\n",
              " 'C39P4thinF_original_IMG_20150622_112119_cell_19.png',\n",
              " 'C182P143NThinF_IMG_20151201_171836_cell_150.png',\n",
              " 'C128P89ThinF_IMG_20151004_131231_cell_150.png',\n",
              " 'C144P105ThinF_IMG_20151015_160529_cell_275.png',\n",
              " 'C42P5thin_original_IMG_20150623_134426_cell_185.png',\n",
              " 'C118P79ThinF_IMG_20151002_105827_cell_139.png',\n",
              " 'C68P29N_ThinF_IMG_20150819_134326_cell_120.png',\n",
              " 'C116P77ThinF_IMG_20150930_171558_cell_121.png',\n",
              " 'C168P129ThinF_IMG_20151118_161940_cell_160.png',\n",
              " 'C84P45ThinF_IMG_20150818_102800_cell_13.png',\n",
              " 'C135P96ThinF_IMG_20151005_124204_cell_126.png',\n",
              " 'C97P58ThinF_IMG_20150917_151512_cell_168.png',\n",
              " 'C109P70ThinF_IMG_20150930_103214_cell_183.png',\n",
              " 'C140P101ThinF_IMG_20151005_210207_cell_168.png',\n",
              " 'C180P141NThinF_IMG_20151201_164714_cell_167.png',\n",
              " 'C163P124ThinF_IMG_20151116_111350_cell_1.png',\n",
              " 'C82P43ThinF_IMG_20150817_125114_cell_1.png',\n",
              " 'C129P90ThinF_IMG_20151004_134520_cell_115.png',\n",
              " 'C99P60ThinF_IMG_20150918_141001_cell_115.png',\n",
              " 'C132P93ThinF_IMG_20151004_152505_cell_147.png',\n",
              " 'C82P43ThinF_IMG_20150817_123652_cell_218.png',\n",
              " 'C99P60ThinF_IMG_20150918_141001_cell_163.png',\n",
              " 'C132P93ThinF_IMG_20151004_152353_cell_140.png',\n",
              " 'C116P77ThinF_IMG_20150930_171844_cell_121.png',\n",
              " 'C48P9thinF_IMG_20150721_163810_cell_11.png',\n",
              " 'C116P77ThinF_IMG_20150930_171448_cell_105.png',\n",
              " 'C167P128ReThinF_IMG_20151201_110011_cell_238.png',\n",
              " 'C68P29N_ThinF_IMG_20150819_134326_cell_119.png',\n",
              " 'C176P137NThinF_IMG_20151201_120612_cell_9.png',\n",
              " 'C110P71ThinF_IMG_20150930_105319_cell_188.png',\n",
              " 'C136P97ThinF_IMG_20151005_140538_cell_97.png',\n",
              " 'C129P90ThinF_IMG_20151004_133538_cell_81.png',\n",
              " 'C181P142ThinF_IMG_20151127_155722_cell_194.png',\n",
              " 'C176P137NThinF_IMG_20151201_122708_cell_130.png',\n",
              " 'C132P93ThinF_IMG_20151004_151941_cell_7.png',\n",
              " 'C180P141NThinF_IMG_20151201_165601_cell_205.png',\n",
              " 'C175P136NThinF_IMG_20151127_141428_cell_211.png',\n",
              " 'C70P31_ThinF_IMG_20150813_130332_cell_100.png',\n",
              " 'C79P40ThinF_IMG_20150817_103901_cell_122.png',\n",
              " 'C39P4thinF_original_IMG_20150622_113842_cell_25.png',\n",
              " 'C95P56ThinF_IMG_20150821_171603_cell_77.png',\n",
              " 'C91P52ThinF_IMG_20150821_124311_cell_6.png',\n",
              " 'C112P73ThinF_IMG_20150930_131900_cell_175.png',\n",
              " 'C101P62ThinF_IMG_20150923_165215_cell_27.png',\n",
              " 'C39P4thinF_original_IMG_20150622_113842_cell_3.png',\n",
              " 'C84P45ThinF_IMG_20150818_101146_cell_93.png',\n",
              " 'C68P29N_ThinF_IMG_20150819_134712_cell_40.png',\n",
              " 'C180P141NThinF_IMG_20151201_163751_cell_141.png',\n",
              " 'C46P7ThinF_IMG_20151130_210123_cell_126.png',\n",
              " 'C59P20thinF_IMG_20150803_112802_cell_194.png',\n",
              " 'C91P52ThinF_IMG_20150821_124739_cell_197.png',\n",
              " 'C39P4thinF_original_IMG_20150622_111206_cell_81.png',\n",
              " 'C84P45ThinF_IMG_20150818_101412_cell_104.png',\n",
              " 'C39P4thinF_original_IMG_20150622_105102_cell_83.png',\n",
              " 'C84P45ThinF_IMG_20150818_101257_cell_87.png',\n",
              " 'C68P29N_ThinF_IMG_20150819_134504_cell_124.png',\n",
              " 'C118P79ThinF_IMG_20151002_105827_cell_144.png',\n",
              " 'C182P143NThinF_IMG_20151201_171905_cell_148.png',\n",
              " 'C132P93ThinF_IMG_20151004_151811_cell_128.png',\n",
              " 'C137P98ThinF_IMG_20151005_164119_cell_74.png',\n",
              " 'C39P4thinF_original_IMG_20150622_113842_cell_8.png',\n",
              " 'C68P29N_ThinF_IMG_20150819_134830_cell_35.png',\n",
              " 'C137P98ThinF_IMG_20151005_162648_cell_9.png',\n",
              " 'C116P77ThinF_IMG_20150930_171739_cell_118.png',\n",
              " 'C179P140ThinF_IMG_20151127_153436_cell_165.png',\n",
              " 'C148P109ThinF_IMG_20151115_112333_cell_242.png',\n",
              " 'C132P93ThinF_IMG_20151004_152808_cell_20.png',\n",
              " 'C59P20thinF_IMG_20150803_112802_cell_191.png',\n",
              " 'C108P69ThinF_IMG_20150924_225511_cell_184.png',\n",
              " 'C39P4thinF_original_IMG_20150622_110900_cell_9.png',\n",
              " 'C62P23N_ThinF_IMG_20150818_132918_cell_193.png',\n",
              " 'C137P98ThinF_IMG_20151005_164119_cell_67.png',\n",
              " 'C116P77ThinF_IMG_20150930_172112_cell_99.png',\n",
              " 'C60P21thinF_IMG_20150803_144003_cell_127.png',\n",
              " 'C162P123ThinF_IMG_20151116_104342_cell_150.png',\n",
              " 'C182P143NThinF_IMG_20151201_172057_cell_150.png',\n",
              " 'C182P143NThinF_IMG_20151201_172759_cell_32.png',\n",
              " 'C188P149ThinF_IMG_20151203_134229_cell_226.png',\n",
              " 'C130P91ThinF_IMG_20151004_135449_cell_124.png',\n",
              " 'C111P72ThinF_IMG_20150930_112827_cell_179.png',\n",
              " 'C68P29N_ThinF_IMG_20150819_134504_cell_136.png',\n",
              " 'C180P141NThinF_IMG_20151201_165423_cell_182.png',\n",
              " 'C39P4thinF_original_IMG_20150622_110115_cell_123.png',\n",
              " 'C181P142ThinF_IMG_20151127_160650_cell_179.png',\n",
              " 'C68P29N_ThinF_IMG_20150819_134712_cell_26.png',\n",
              " 'C180P141NThinF_IMG_20151201_163751_cell_146.png',\n",
              " 'C39P4thinF_original_IMG_20150622_114804_cell_21.png',\n",
              " 'C164P125ThinF_IMG_20151116_120135_cell_139.png',\n",
              " 'C68P29N_ThinF_IMG_20150819_134625_cell_53.png',\n",
              " 'C182P143NThinF_IMG_20151201_172607_cell_32.png',\n",
              " 'C60P21thinF_IMG_20150804_105034_cell_114.png',\n",
              " 'C116P77ThinF_IMG_20150930_171809_cell_62.png',\n",
              " 'C180P141NThinF_IMG_20151201_163751_cell_180.png',\n",
              " 'C59P20thinF_IMG_20150803_113809_cell_32.png',\n",
              " 'C132P93ThinF_IMG_20151004_151811_cell_171.png',\n",
              " 'C116P77ThinF_IMG_20150930_172112_cell_107.png',\n",
              " 'C174P135NThinF_IMG_20151127_135640_cell_181.png',\n",
              " 'C124P85ThinF_IMG_20151002_154502_cell_157.png',\n",
              " 'C81P42ThinF_IMG_20150817_115942_cell_214.png',\n",
              " 'C180P141NThinF_IMG_20151201_163702_cell_199.png',\n",
              " 'C140P101ThinF_IMG_20151005_211735_cell_154.png',\n",
              " 'C175P136NThinF_IMG_20151127_141325_cell_222.png',\n",
              " 'C131P92ThinF_IMG_20151004_151001_cell_130.png',\n",
              " 'C101P62ThinF_IMG_20150923_170246_cell_84.png',\n",
              " 'C182P143NThinF_IMG_20151201_171950_cell_173.png',\n",
              " 'C182P143NThinF_IMG_20151201_172216_cell_159.png',\n",
              " 'C118P79ThinF_IMG_20151002_104831_cell_155.png',\n",
              " 'C145P106ThinF_IMG_20151016_154309_cell_150.png',\n",
              " 'C131P92ThinF_IMG_20151004_145224_cell_134.png',\n",
              " 'C59P20thinF_IMG_20150803_112858_cell_151.png',\n",
              " 'C182P143NThinF_IMG_20151201_171950_cell_167.png',\n",
              " 'C39P4thinF_original_IMG_20150622_111206_cell_105.png',\n",
              " 'C118P79ThinF_IMG_20151002_105346_cell_157.png',\n",
              " 'C57P18thinF_IMG_20150729_110305_cell_222.png',\n",
              " 'C130P91ThinF_IMG_20151004_142951_cell_158.png',\n",
              " 'C104P65ThinF_IMG_20150918_171154_cell_213.png',\n",
              " 'C59P20thinF_IMG_20150803_113809_cell_42.png',\n",
              " 'C119P80ThinF_IMG_20151002_124425_cell_143.png',\n",
              " 'C66P27N_ThinF_IMG_20150818_164008_cell_160.png',\n",
              " 'C48P9thinF_IMG_20150721_161055_cell_180.png',\n",
              " 'C39P4thinF_original_IMG_20150622_111326_cell_25.png',\n",
              " 'C101P62ThinF_IMG_20150918_151149_cell_79.png',\n",
              " 'C66P27N_ThinF_IMG_20150818_164008_cell_157.png',\n",
              " 'C98P59ThinF_IMG_20150917_153938_cell_179.png',\n",
              " 'C84P45ThinF_IMG_20150818_104849_cell_14.png',\n",
              " 'C188P149ThinF_IMG_20151203_134419_cell_199.png',\n",
              " 'C97P58ThinF_IMG_20150917_151512_cell_171.png',\n",
              " 'C77P38ThinF_IMG_20150601_155125_cell_132.png',\n",
              " 'C39P4thinF_original_IMG_20150622_110435_cell_88.png',\n",
              " 'C97P58ThinF_IMG_20150917_151903_cell_20.png',\n",
              " 'C180P141NThinF_IMG_20151201_163702_cell_185.png',\n",
              " 'C181P142ThinF_IMG_20151127_155722_cell_189.png',\n",
              " 'C52P13thinF_IMG_20150725_124606_cell_160.png',\n",
              " 'C113P74ThinF_IMG_20150930_134614_cell_174.png',\n",
              " 'C102P63ThinF_IMG_20150918_161826_cell_171.png',\n",
              " 'C176P137NThinF_IMG_20151201_122708_cell_119.png',\n",
              " 'C116P77ThinF_IMG_20150930_171219_cell_96.png',\n",
              " 'C174P135NThinF_IMG_20151127_135342_cell_221.png',\n",
              " 'C59P20thinF_IMG_20150803_113139_cell_28.png',\n",
              " 'C157P118ThinF_IMG_20151115_162818_cell_183.png',\n",
              " 'C118P79ThinF_IMG_20151002_110212_cell_5.png',\n",
              " 'C171P132ThinF_IMG_20151119_153425_cell_240.png',\n",
              " 'C91P52ThinF_IMG_20150821_125154_cell_195.png',\n",
              " 'C180P141NThinF_IMG_20151201_165659_cell_2.png',\n",
              " 'C78P39ThinF_IMG_20150606_103630_cell_170.png',\n",
              " 'C96P57ThinF_IMG_20150824_111748_cell_218.png',\n",
              " 'C182P143NThinF_IMG_20151201_172524_cell_188.png',\n",
              " 'C120P81ThinF_IMG_20151002_131120_cell_191.png',\n",
              " 'C59P20thinF_IMG_20150803_115303_cell_13.png',\n",
              " 'C140P101ThinF_IMG_20151005_205922_cell_192.png',\n",
              " 'C146P107ThinF_IMG_20151018_140342_cell_250.png',\n",
              " 'C100P61ThinF_IMG_20150918_150041_cell_149.png',\n",
              " 'C37BP2_thinF_IMG_20150620_133111a_cell_86.png',\n",
              " 'C180P141NThinF_IMG_20151201_165601_cell_165.png',\n",
              " 'C102P63ThinF_IMG_20150918_162300_cell_180.png',\n",
              " 'C180P141NThinF_IMG_20151201_165528_cell_143.png',\n",
              " 'C39P4thinF_original_IMG_20150622_111723_cell_79.png',\n",
              " 'C82P43ThinF_IMG_20150817_123824_cell_190.png',\n",
              " 'C158P119ThinF_IMG_20151115_181035_cell_174.png',\n",
              " 'C99P60ThinF_IMG_20150918_142334_cell_21.png',\n",
              " 'C118P79ThinF_IMG_20151002_105125_cell_162.png',\n",
              " 'C158P119ThinF_IMG_20151115_183157_cell_172.png',\n",
              " 'C97P58ThinF_IMG_20150917_145555_cell_169.png',\n",
              " 'C184P145ThinF_IMG_20151203_104153_cell_128.png',\n",
              " 'C97P58ThinF_IMG_20150917_151551_cell_183.png',\n",
              " 'C101P62ThinF_IMG_20150918_151942_cell_64.png',\n",
              " 'C101P62ThinF_IMG_20150918_151335_cell_51.png',\n",
              " 'C137P98ThinF_IMG_20151005_164119_cell_78.png',\n",
              " 'C184P145ThinF_IMG_20151203_104334_cell_22.png',\n",
              " 'C120P81ThinF_IMG_20151002_125443_cell_144.png',\n",
              " 'C184P145ThinF_IMG_20151203_103114_cell_146.png',\n",
              " 'C99P60ThinF_IMG_20150918_142128_cell_79.png',\n",
              " 'C108P69ThinF_IMG_20150924_224616_cell_195.png',\n",
              " 'C188P149ThinF_IMG_20151203_134319_cell_186.png',\n",
              " 'C186P147NThinF_IMG_20151203_150132_cell_199.png',\n",
              " 'C128P89ThinF_IMG_20151004_131030_cell_151.png',\n",
              " 'C80P41ThinF_IMG_20150817_110348_cell_113.png',\n",
              " 'C140P101ThinF_IMG_20151005_210026_cell_167.png',\n",
              " 'C188P149ThinF_IMG_20151203_134449_cell_203.png',\n",
              " 'C117P78ThinF_IMG_20150930_214629_cell_105.png',\n",
              " 'C89P50ThinF_IMG_20150820_162504_cell_195.png',\n",
              " 'C82P43ThinF_IMG_20150817_123500_cell_247.png',\n",
              " 'C48P9thinF_IMG_20150721_160944_cell_231.png',\n",
              " 'C84P45ThinF_IMG_20150818_101550_cell_104.png',\n",
              " 'C176P137NThinF_IMG_20151201_114235_cell_15.png',\n",
              " 'C59P20thinF_IMG_20150803_113430_cell_7.png',\n",
              " 'C48P9thinF_IMG_20150721_164129_cell_5.png',\n",
              " 'C109P70ThinF_IMG_20150930_102944_cell_172.png',\n",
              " 'C184P145ThinF_IMG_20151203_102405_cell_168.png',\n",
              " 'C99P60ThinF_IMG_20150918_141620_cell_12.png',\n",
              " 'C81P42ThinF_IMG_20150817_120351_cell_184.png',\n",
              " 'C49P10thinF_IMG_20150724_103054_cell_193.png',\n",
              " 'C133P94ThinF_IMG_20151004_155721_cell_109.png',\n",
              " 'C78P39ThinF_IMG_20150606_104426_cell_152.png',\n",
              " 'C91P52ThinF_IMG_20150821_124311_cell_20.png',\n",
              " 'C77P38ThinF_IMG_20150602_112011_cell_125.png',\n",
              " 'C173P134NThinF_IMG_20151130_125501_cell_256.png',\n",
              " 'C70P31_ThinF_IMG_20150819_142239_cell_8.png',\n",
              " 'C64P25N_ThinF_IMG_20150818_153401_cell_194.png',\n",
              " 'C59P20thinF_IMG_20150803_111333_cell_173.png',\n",
              " 'C149P110ThinF_IMG_20151115_114629_cell_270.png',\n",
              " 'C179P140ThinF_IMG_20151127_153852_cell_161.png',\n",
              " 'C176P137NThinF_IMG_20151201_120612_cell_8.png',\n",
              " 'C80P41ThinF_IMG_20150817_111943_cell_20.png',\n",
              " 'C52P13thinF_IMG_20150725_123938_cell_191.png',\n",
              " 'C62P23N_ThinF_IMG_20150818_133307_cell_173.png',\n",
              " 'C101P62ThinF_IMG_20150918_151006_cell_80.png',\n",
              " 'C184P145ThinF_IMG_20151203_102405_cell_187.png',\n",
              " 'C39P4thinF_original_IMG_20150622_105253_cell_103.png',\n",
              " 'C33P1thinF_IMG_20150619_120742a_cell_210.png',\n",
              " 'C132P93ThinF_IMG_20151004_152257_cell_150.png',\n",
              " 'C116P77ThinF_IMG_20150930_171635_cell_74.png',\n",
              " 'C80P41ThinF_IMG_20150817_110834_cell_143.png',\n",
              " 'C182P143NThinF_IMG_20151201_172842_cell_14.png',\n",
              " 'C82P43ThinF_IMG_20150817_124418_cell_153.png',\n",
              " 'C129P90ThinF_IMG_20151004_133421_cell_103.png',\n",
              " 'C176P137NThinF_IMG_20151201_122811_cell_162.png',\n",
              " 'C56P17thinF_IMG_20150728_151330_cell_121.png',\n",
              " 'C59P20thinF_IMG_20150803_113809_cell_19.png',\n",
              " 'C68P29N_ThinF_IMG_20150819_134712_cell_78.png',\n",
              " 'C68P29N_ThinF_IMG_20150819_133350_cell_142.png',\n",
              " 'C137P98ThinF_IMG_20151005_160918_cell_66.png',\n",
              " 'C188P149ThinF_IMG_20151203_134229_cell_225.png',\n",
              " 'C68P29N_ThinF_IMG_20150819_134112_cell_130.png',\n",
              " 'C180P141NThinF_IMG_20151201_164714_cell_190.png',\n",
              " 'C184P145ThinF_IMG_20151203_102405_cell_158.png',\n",
              " 'C113P74ThinF_IMG_20150930_134751_cell_181.png',\n",
              " 'C179P140ThinF_IMG_20151127_153521_cell_167.png',\n",
              " 'C92P53ThinF_IMG_20150821_150457_cell_252.png',\n",
              " 'C70P31_ThinF_IMG_20150819_142239_cell_11.png',\n",
              " 'C172P133ThinF_IMG_20151119_154936_cell_252.png',\n",
              " 'C39P4thinF_original_IMG_20150622_112119_cell_17.png',\n",
              " 'C132P93ThinF_IMG_20151004_152353_cell_171.png',\n",
              " 'C48P9thinF_IMG_20150721_163810_cell_8.png',\n",
              " 'C180P141NThinF_IMG_20151201_165423_cell_168.png',\n",
              " 'C60P21thinF_IMG_20150803_144003_cell_126.png',\n",
              " 'C46P7ThinF_IMG_20151130_205756_cell_122.png',\n",
              " 'C133P94ThinF_IMG_20151004_155144_cell_115.png',\n",
              " 'C84P45ThinF_IMG_20150818_101550_cell_103.png',\n",
              " 'C184P145ThinF_IMG_20151203_103326_cell_124.png',\n",
              " 'C101P62ThinF_IMG_20150918_151006_cell_71.png',\n",
              " 'C147P108ThinF_IMG_20151115_092605_cell_225.png',\n",
              " 'C132P93ThinF_IMG_20151004_152642_cell_37.png',\n",
              " 'C184P145ThinF_IMG_20151203_102405_cell_149.png',\n",
              " 'C132P93ThinF_IMG_20151004_152353_cell_139.png',\n",
              " 'C68P29N_ThinF_IMG_20150819_133236_cell_156.png',\n",
              " 'C97P58ThinF_IMG_20150917_152032_cell_161.png',\n",
              " 'C80P41ThinF_IMG_20150817_110957_cell_151.png',\n",
              " 'C45P6ThinF_IMG_20151130_160135_cell_204.png',\n",
              " 'C76P37ThinF_IMG_20150815_172808_cell_221.png',\n",
              " 'C60P21thinF_IMG_20150804_105955_cell_123.png',\n",
              " 'C136P97ThinF_IMG_20151005_140538_cell_92.png',\n",
              " 'C189P150ThinF_IMG_20151203_141615_cell_90.png',\n",
              " 'C68P29N_ThinF_IMG_20150819_134712_cell_21.png',\n",
              " 'C117P78ThinF_IMG_20150930_222228_cell_81.png',\n",
              " 'C91P52ThinF_IMG_20150821_125154_cell_206.png',\n",
              " 'C39P4thinF_original_IMG_20150622_114804_cell_17.png',\n",
              " 'C179P140ThinF_IMG_20151127_153819_cell_179.png',\n",
              " 'C181P142ThinF_IMG_20151127_160539_cell_196.png',\n",
              " 'C82P43ThinF_IMG_20150817_124010_cell_192.png',\n",
              " 'C68P29N_ThinF_IMG_20150819_134112_cell_133.png',\n",
              " 'C46P7ThinF_IMG_20151130_210815_cell_2.png',\n",
              " 'C130P91ThinF_IMG_20151004_142951_cell_143.png',\n",
              " 'C64P25N_ThinF_IMG_20150818_153401_cell_195.png',\n",
              " 'C48P9thinF_IMG_20150721_161243_cell_147.png',\n",
              " 'C108P69ThinF_IMG_20150924_224038_cell_189.png',\n",
              " 'C144P105ThinF_IMG_20151015_160908_cell_288.png',\n",
              " 'C71P32_ThinF_IMG_20150813_162016_cell_244.png',\n",
              " 'C144P105ThinF_IMG_20151015_160908_cell_290.png',\n",
              " 'C116P77ThinF_IMG_20150930_171558_cell_92.png',\n",
              " 'C82P43ThinF_IMG_20150817_123652_cell_227.png',\n",
              " 'C180P141NThinF_IMG_20151201_165453_cell_21.png',\n",
              " 'C116P77ThinF_IMG_20150930_171219_cell_107.png',\n",
              " 'C184P145ThinF_IMG_20151203_103824_cell_114.png',\n",
              " 'C184P145ThinF_IMG_20151203_102543_cell_173.png',\n",
              " 'C183P144NThinF_IMG_20151201_222917_cell_152.png',\n",
              " 'C88P49ThinF_IMG_20150820_150141_cell_218.png',\n",
              " 'C39P4thinF_original_IMG_20150622_113632_cell_14.png',\n",
              " 'C180P141NThinF_IMG_20151201_165528_cell_176.png',\n",
              " 'C184P145ThinF_IMG_20151203_104030_cell_34.png',\n",
              " 'C52P13thinF_IMG_20150725_125213_cell_170.png',\n",
              " 'C179P140ThinF_IMG_20151127_153420_cell_180.png',\n",
              " 'C39P4thinF_original_IMG_20150622_111326_cell_3.png',\n",
              " 'C184P145ThinF_IMG_20151203_103824_cell_118.png',\n",
              " 'C82P43ThinF_IMG_20150817_125114_cell_10.png',\n",
              " 'C133P94ThinF_IMG_20151004_155331_cell_118.png',\n",
              " 'C78P39ThinF_IMG_20150606_103413_cell_171.png',\n",
              " 'C149P110ThinF_IMG_20151115_114729_cell_266.png',\n",
              " 'C70P31_ThinF_IMG_20150813_130849_cell_75.png',\n",
              " 'C59P20thinF_IMG_20150803_112733_cell_183.png',\n",
              " 'C66P27N_ThinF_IMG_20150818_163419_cell_198.png',\n",
              " 'C159P120ThinF_IMG_20151115_190642_cell_201.png',\n",
              " 'C144P105ThinF_IMG_20151015_160529_cell_276.png',\n",
              " 'C129P90ThinF_IMG_20151004_133921_cell_100.png',\n",
              " 'C182P143NThinF_IMG_20151201_172257_cell_171.png',\n",
              " 'C62P23N_ThinF_IMG_20150818_132811_cell_191.png',\n",
              " 'C130P91ThinF_IMG_20151004_142109_cell_147.png',\n",
              " 'C80P41ThinF_IMG_20150817_110834_cell_128.png',\n",
              " 'C85P46ThinF_IMG_20150820_105748_cell_256.png',\n",
              " 'C59P20thinF_IMG_20150803_111333_cell_154.png',\n",
              " 'C101P62ThinF_IMG_20150918_151006_cell_65.png',\n",
              " 'C68P29N_ThinF_IMG_20150819_134326_cell_116.png',\n",
              " 'C68P29N_ThinF_IMG_20150819_134504_cell_120.png',\n",
              " 'C59P20thinF_IMG_20150803_113430_cell_10.png',\n",
              " 'C132P93ThinF_IMG_20151004_152642_cell_51.png',\n",
              " 'C176P137NThinF_IMG_20151201_120612_cell_18.png',\n",
              " 'C137P98ThinF_IMG_20151005_161306_cell_15.png',\n",
              " 'C39P4thinF_original_IMG_20150622_111206_cell_79.png',\n",
              " 'C176P137NThinF_IMG_20151201_120845_cell_130.png',\n",
              " 'C130P91ThinF_IMG_20151004_141504_cell_148.png',\n",
              " 'C137P98ThinF_IMG_20151005_155704_cell_57.png',\n",
              " 'C39P4thinF_original_IMG_20150622_110352_cell_90.png',\n",
              " 'C68P29N_ThinF_IMG_20150819_134504_cell_144.png',\n",
              " 'C182P143NThinF_IMG_20151201_171836_cell_147.png',\n",
              " 'C80P41ThinF_IMG_20150817_111246_cell_115.png',\n",
              " 'C176P137NThinF_IMG_20151201_121303_cell_107.png',\n",
              " 'C183P144NThinF_IMG_20151201_222119_cell_136.png',\n",
              " 'C130P91ThinF_IMG_20151004_141428_cell_125.png',\n",
              " 'C184P145ThinF_IMG_20151203_104334_cell_8.png',\n",
              " 'C68P29N_ThinF_IMG_20150819_134712_cell_14.png',\n",
              " 'C78P39ThinF_IMG_20150606_104936_cell_178.png',\n",
              " 'C132P93ThinF_IMG_20151004_152353_cell_136.png',\n",
              " 'C133P94ThinF_IMG_20151004_155912_cell_18.png',\n",
              " 'C70P31_ThinF_IMG_20150813_131609_cell_93.png',\n",
              " 'C132P93ThinF_IMG_20151004_152808_cell_48.png',\n",
              " 'C59P20thinF_IMG_20150803_113809_cell_12.png',\n",
              " 'C174P135NThinF_IMG_20151127_135435_cell_208.png',\n",
              " 'C129P90ThinF_IMG_20151004_133703_cell_93.png',\n",
              " 'C175P136NThinF_IMG_20151127_142009_cell_216.png',\n",
              " 'C182P143NThinF_IMG_20151201_171836_cell_179.png',\n",
              " 'C133P94ThinF_IMG_20151004_155721_cell_113.png',\n",
              " 'C99P60ThinF_IMG_20150918_141351_cell_124.png',\n",
              " 'C59P20thinF_IMG_20150803_115303_cell_25.png',\n",
              " 'C120P81ThinF_IMG_20151002_130150_cell_196.png',\n",
              " 'C82P43ThinF_IMG_20150817_124728_cell_4.png',\n",
              " 'C130P91ThinF_IMG_20151004_141428_cell_126.png',\n",
              " 'C169P130ThinF_IMG_20151119_144354_cell_274.png',\n",
              " 'C136P97ThinF_IMG_20151005_142627_cell_2.png',\n",
              " 'C60P21thinF_IMG_20150804_105034_cell_109.png',\n",
              " 'C137P98ThinF_IMG_20151005_161449_cell_4.png',\n",
              " 'C48P9thinF_IMG_20150721_161055_cell_194.png',\n",
              " 'C99P60ThinF_IMG_20150918_141857_cell_26.png',\n",
              " 'C60P21thinF_IMG_20150803_144629_cell_6.png',\n",
              " 'C118P79ThinF_IMG_20151002_105125_cell_160.png',\n",
              " 'C59P20thinF_IMG_20150803_112733_cell_222.png',\n",
              " 'C167P128ReThinF_IMG_20151201_110011_cell_230.png',\n",
              " 'C80P41ThinF_IMG_20150817_110608_cell_153.png',\n",
              " 'C120P81ThinF_IMG_20151002_125443_cell_148.png',\n",
              " 'C183P144NThinF_IMG_20151201_224107_cell_127.png',\n",
              " 'C172P133ThinF_IMG_20151119_155019_cell_244.png',\n",
              " 'C184P145ThinF_IMG_20151203_104153_cell_145.png',\n",
              " 'C39P4thinF_original_IMG_20150622_113446_cell_1.png',\n",
              " 'C59P20thinF_IMG_20150803_113809_cell_4.png',\n",
              " 'C91P52ThinF_IMG_20150821_124937_cell_198.png',\n",
              " 'C174P135NThinF_IMG_20151127_135342_cell_224.png',\n",
              " 'C131P92ThinF_IMG_20151004_151126_cell_124.png',\n",
              " 'C70P31_ThinF_IMG_20150819_141327_cell_78.png',\n",
              " 'C68P29N_ThinF_IMG_20150819_134504_cell_151.png',\n",
              " 'C140P101ThinF_IMG_20151005_210309_cell_187.png',\n",
              " 'C60P21thinF_IMG_20150804_113011_cell_3.png',\n",
              " 'C48P9thinF_IMG_20150721_164304_cell_11.png',\n",
              " 'C39P4thinF_original_IMG_20150622_111206_cell_110.png',\n",
              " 'C60P21thinF_IMG_20150804_105034_cell_119.png',\n",
              " 'C101P62ThinF_IMG_20150918_151149_cell_74.png',\n",
              " 'C182P143NThinF_IMG_20151201_172257_cell_149.png',\n",
              " 'C118P79ThinF_IMG_20151002_105827_cell_137.png',\n",
              " 'C62P23N_ThinF_IMG_20150818_133055_cell_187.png',\n",
              " 'C80P41ThinF_IMG_20150817_111544_cell_138.png',\n",
              " 'C158P119ThinF_IMG_20151115_181558_cell_196.png',\n",
              " 'C181P142ThinF_IMG_20151127_160434_cell_174.png',\n",
              " 'C39P4thinF_original_IMG_20150622_114609_cell_31.png',\n",
              " 'C118P79ThinF_IMG_20151002_110212_cell_2.png',\n",
              " 'C184P145ThinF_IMG_20151203_103637_cell_154.png',\n",
              " 'C132P93ThinF_IMG_20151004_151811_cell_151.png',\n",
              " 'C180P141NThinF_IMG_20151201_170021_cell_5.png',\n",
              " 'C39P4thinF_original_IMG_20150622_113842_cell_21.png',\n",
              " 'C118P79ThinF_IMG_20151002_110834_cell_150.png',\n",
              " 'C118P79ThinF_IMG_20151002_105735_cell_157.png',\n",
              " 'C101P62ThinF_IMG_20150918_155731_cell_63.png',\n",
              " 'C88P49ThinF_IMG_20150820_150141_cell_219.png',\n",
              " 'C82P43ThinF_IMG_20150817_124010_cell_195.png',\n",
              " 'C118P79ThinF_IMG_20151002_104831_cell_166.png',\n",
              " 'C120P81ThinF_IMG_20151002_130150_cell_205.png',\n",
              " 'C110P71ThinF_IMG_20150930_105559_cell_201.png',\n",
              " 'C99P60ThinF_IMG_20150918_141351_cell_125.png',\n",
              " 'C60P21thinF_IMG_20150804_105639_cell_3.png',\n",
              " 'C180P141NThinF_IMG_20151201_165453_cell_19.png',\n",
              " 'C99P60ThinF_IMG_20150918_141857_cell_7.png',\n",
              " 'C97P58ThinF_IMG_20150917_151903_cell_14.png',\n",
              " 'C78P39ThinF_IMG_20150606_104106_cell_174.png',\n",
              " 'C182P143NThinF_IMG_20151201_172216_cell_148.png',\n",
              " 'C48P9thinF_IMG_20150721_164031_cell_4.png',\n",
              " 'C59P20thinF_IMG_20150803_112858_cell_171.png',\n",
              " 'C39P4thinF_original_IMG_20150622_110435_cell_115.png',\n",
              " 'C137P98ThinF_IMG_20151005_161659_cell_3.png',\n",
              " 'C68P29N_ThinF_IMG_20150819_133447_cell_155.png',\n",
              " 'C96P57ThinF_IMG_20150824_112442_cell_195.png',\n",
              " 'C136P97ThinF_IMG_20151005_140538_cell_96.png',\n",
              " 'C181P142ThinF_IMG_20151127_155722_cell_177.png',\n",
              " 'C101P62ThinF_IMG_20150918_151335_cell_73.png',\n",
              " 'C48P9thinF_IMG_20150721_164129_cell_19.png',\n",
              " 'C70P31_ThinF_IMG_20150813_130510_cell_87.png',\n",
              " 'C59P20thinF_IMG_20150803_111333_cell_140.png',\n",
              " 'C80P41ThinF_IMG_20150817_111544_cell_139.png',\n",
              " 'C84P45ThinF_IMG_20150818_102654_cell_80.png',\n",
              " 'C70P31_ThinF_IMG_20150813_130332_cell_99.png',\n",
              " 'C68P29N_ThinF_IMG_20150819_133350_cell_178.png',\n",
              " 'C174P135NThinF_IMG_20151127_135342_cell_225.png',\n",
              " 'C97P58ThinF_IMG_20150917_151551_cell_170.png',\n",
              " 'C97P58ThinF_IMG_20150917_145555_cell_172.png',\n",
              " 'C169P130ThinF_IMG_20151118_173039_cell_250.png',\n",
              " 'C59P20thinF_IMG_20150803_111333_cell_142.png',\n",
              " 'C132P93ThinF_IMG_20151004_151733_cell_159.png',\n",
              " 'C181P142ThinF_IMG_20151127_160616_cell_170.png',\n",
              " 'C129P90ThinF_IMG_20151004_134700_cell_20.png',\n",
              " 'C45P6ThinF_IMG_20151130_155110_cell_196.png',\n",
              " 'C39P4thinF_original_IMG_20150622_113126_cell_4.png',\n",
              " 'C133P94ThinF_IMG_20151004_155144_cell_118.png',\n",
              " 'C182P143NThinF_IMG_20151201_171836_cell_176.png',\n",
              " 'C94P55ThinF_IMG_20150821_170403_cell_232.png',\n",
              " 'C137P98ThinF_IMG_20151005_163946_cell_13.png',\n",
              " 'C118P79ThinF_IMG_20151002_105125_cell_153.png',\n",
              " 'C39P4thinF_original_IMG_20150622_111326_cell_22.png',\n",
              " 'C135P96ThinF_IMG_20151005_123715_cell_164.png',\n",
              " 'C188P149ThinF_IMG_20151203_134319_cell_184.png',\n",
              " 'C115P76ThinF_IMG_20150930_162038_cell_207.png',\n",
              " 'C129P90ThinF_IMG_20151004_133703_cell_98.png',\n",
              " 'C118P79ThinF_IMG_20151002_104831_cell_149.png',\n",
              " 'C189P150ThinF_IMG_20151203_141615_cell_89.png',\n",
              " 'C113P74ThinF_IMG_20150930_134751_cell_180.png',\n",
              " 'C126P87ThinF_IMG_20151004_104651_cell_1.png',\n",
              " 'C56P17thinF_IMG_20150728_160256_cell_122.png',\n",
              " 'C91P52ThinF_IMG_20150821_125423_cell_12.png',\n",
              " 'C116P77ThinF_IMG_20150930_172112_cell_115.png',\n",
              " 'C91P52ThinF_IMG_20150821_123116_cell_182.png',\n",
              " 'C89P50ThinF_IMG_20150820_162504_cell_193.png',\n",
              " 'C99P60ThinF_IMG_20150918_141620_cell_50.png',\n",
              " 'C178P139NThinF_IMG_20151201_153246_cell_155.png',\n",
              " 'C157P118ThinF_IMG_20151115_163915_cell_174.png',\n",
              " 'C182P143NThinF_IMG_20151201_172057_cell_140.png',\n",
              " 'C39P4thinF_original_IMG_20150622_110435_cell_90.png',\n",
              " 'C137P98ThinF_IMG_20151005_162348_cell_9.png',\n",
              " 'C132P93ThinF_IMG_20151004_151701_cell_183.png',\n",
              " 'C48P9thinF_IMG_20150721_164304_cell_26.png',\n",
              " 'C99P60ThinF_IMG_20150918_141351_cell_110.png',\n",
              " 'C39P4thinF_original_IMG_20150622_111326_cell_4.png',\n",
              " 'C146P107ThinF_IMG_20151018_140439_cell_283.png',\n",
              " 'C101P62ThinF_IMG_20150918_151149_cell_85.png',\n",
              " 'C116P77ThinF_IMG_20150930_171219_cell_94.png',\n",
              " 'C97P58ThinF_IMG_20150917_150838_cell_164.png',\n",
              " 'C39P4thinF_original_IMG_20150622_110115_cell_136.png',\n",
              " 'C101P62ThinF_IMG_20150923_170246_cell_78.png',\n",
              " 'C136P97ThinF_IMG_20151005_142437_cell_131.png',\n",
              " 'C118P79ThinF_IMG_20151002_105827_cell_158.png',\n",
              " 'C48P9thinF_IMG_20150721_161412_cell_179.png',\n",
              " 'C78P39ThinF_IMG_20150606_104106_cell_173.png',\n",
              " 'C48P9thinF_IMG_20150721_161412_cell_193.png',\n",
              " 'C174P135NThinF_IMG_20151127_135554_cell_193.png',\n",
              " 'C184P145ThinF_IMG_20151203_102543_cell_151.png',\n",
              " 'C116P77ThinF_IMG_20150930_171558_cell_128.png',\n",
              " 'C60P21thinF_IMG_20150803_144003_cell_122.png',\n",
              " 'C120P81ThinF_IMG_20151002_131120_cell_186.png',\n",
              " 'C133P94ThinF_IMG_20151004_153930_cell_112.png',\n",
              " 'C39P4thinF_original_IMG_20150622_114804_cell_40.png',\n",
              " 'C80P41ThinF_IMG_20150817_110957_cell_134.png',\n",
              " 'C68P29N_ThinF_IMG_20150819_134830_cell_19.png',\n",
              " 'C129P90ThinF_IMG_20151004_133329_cell_97.png',\n",
              " 'C51AP12thinF_IMG_20150724_154330_cell_115.png',\n",
              " 'C62P23N_ThinF_IMG_20150818_133527_cell_197.png',\n",
              " 'C182P143NThinF_IMG_20151201_172524_cell_177.png',\n",
              " 'C116P77ThinF_IMG_20150930_172112_cell_113.png',\n",
              " 'C48P9thinF_IMG_20150721_164129_cell_13.png',\n",
              " 'C84P45ThinF_IMG_20150818_102009_cell_14.png',\n",
              " 'C136P97ThinF_IMG_20151005_141321_cell_97.png',\n",
              " 'C132P93ThinF_IMG_20151004_152045_cell_132.png',\n",
              " 'C107P68ThinF_IMG_20150924_222233_cell_153.png',\n",
              " 'C116P77ThinF_IMG_20150930_171809_cell_80.png',\n",
              " 'C177P138NThinF_IMG_20151201_143025_cell_179.png',\n",
              " 'C160P121ThinF_IMG_20151116_092925_cell_148.png',\n",
              " 'C70P31_ThinF_IMG_20150813_131457_cell_14.png',\n",
              " 'C180P141NThinF_IMG_20151201_165453_cell_3.png',\n",
              " 'C179P140ThinF_IMG_20151127_153420_cell_176.png',\n",
              " 'C80P41ThinF_IMG_20150817_110348_cell_118.png',\n",
              " 'C99P60ThinF_IMG_20150918_142128_cell_82.png',\n",
              " 'C60P21thinF_IMG_20150804_113602_cell_119.png',\n",
              " 'C84P45ThinF_IMG_20150818_104849_cell_25.png',\n",
              " 'C140P101ThinF_IMG_20151005_210207_cell_171.png',\n",
              " 'C59P20thinF_IMG_20150803_113430_cell_15.png',\n",
              " 'C182P143NThinF_IMG_20151201_172759_cell_13.png',\n",
              " 'C48P9thinF_IMG_20150721_161243_cell_150.png',\n",
              " 'C189P150ThinF_IMG_20151203_142224_cell_91.png',\n",
              " 'C182P143NThinF_IMG_20151201_172524_cell_171.png',\n",
              " 'C179P140ThinF_IMG_20151127_153350_cell_182.png',\n",
              " 'C45P6ThinF_IMG_20151130_160409_cell_194.png',\n",
              " 'C140P101ThinF_IMG_20151005_211735_cell_160.png',\n",
              " 'C99P60ThinF_IMG_20150918_141520_cell_136.png',\n",
              " 'C118P79ThinF_IMG_20151002_105125_cell_148.png',\n",
              " 'C68P29N_ThinF_IMG_20150819_133236_cell_174.png',\n",
              " 'C76P37ThinF_IMG_20150815_173019_cell_240.png',\n",
              " 'C60P21thinF_IMG_20150804_113602_cell_120.png',\n",
              " 'C176P137NThinF_IMG_20151201_121808_cell_128.png',\n",
              " 'C184P145ThinF_IMG_20151203_102543_cell_155.png',\n",
              " 'C182P143NThinF_IMG_20151201_172057_cell_169.png',\n",
              " 'C184P145ThinF_IMG_20151203_102721_cell_12.png',\n",
              " 'C116P77ThinF_IMG_20150930_171739_cell_112.png',\n",
              " 'C68P29N_ThinF_IMG_20150819_134625_cell_16.png',\n",
              " 'C132P93ThinF_IMG_20151004_152045_cell_123.png',\n",
              " 'C179P140ThinF_IMG_20151127_153819_cell_174.png',\n",
              " 'C68P29N_ThinF_IMG_20150819_134326_cell_150.png',\n",
              " 'C46P7ThinF_IMG_20151130_210123_cell_123.png',\n",
              " 'C133P94ThinF_IMG_20151004_154351_cell_98.png',\n",
              " 'C118P79ThinF_IMG_20151002_104831_cell_144.png',\n",
              " 'C129P90ThinF_IMG_20151004_133538_cell_80.png',\n",
              " 'C91P52ThinF_IMG_20150821_124311_cell_14.png',\n",
              " 'C116P77ThinF_IMG_20150930_171219_cell_80.png',\n",
              " 'C183P144NThinF_IMG_20151201_224107_cell_126.png',\n",
              " 'C39P4thinF_original_IMG_20150622_111723_cell_92.png',\n",
              " 'C132P93ThinF_IMG_20151004_151701_cell_145.png',\n",
              " 'C176P137NThinF_IMG_20151201_121808_cell_134.png',\n",
              " 'C48P9thinF_IMG_20150721_161243_cell_149.png',\n",
              " 'C137P98ThinF_IMG_20151005_162648_cell_5.png',\n",
              " 'C141P102ThinF_IMG_20151005_214836_cell_148.png',\n",
              " 'C176P137NThinF_IMG_20151201_121030_cell_18.png',\n",
              " 'C54P15thinF_IMG_20150728_105949_cell_241.png',\n",
              " 'C65P26N_ThinF_IMG_20150818_154714_cell_188.png',\n",
              " 'C59P20thinF_IMG_20150803_113809_cell_29.png',\n",
              " 'C116P77ThinF_IMG_20150930_171635_cell_95.png',\n",
              " 'C99P60ThinF_IMG_20150918_141857_cell_2.png',\n",
              " 'C91P52ThinF_IMG_20150821_123116_cell_191.png',\n",
              " 'C184P145ThinF_IMG_20151203_102543_cell_178.png',\n",
              " 'C176P137NThinF_IMG_20151201_121030_cell_15.png',\n",
              " 'C129P90ThinF_IMG_20151004_133329_cell_109.png',\n",
              " 'C117P78ThinF_IMG_20150930_221048_cell_103.png',\n",
              " 'C184P145ThinF_IMG_20151203_104030_cell_40.png',\n",
              " 'C80P41ThinF_IMG_20150817_112329_cell_5.png',\n",
              " 'C102P63ThinF_IMG_20150918_161508_cell_193.png',\n",
              " 'C128P89ThinF_IMG_20151004_131753_cell_127.png',\n",
              " 'C97P58ThinF_IMG_20150917_150838_cell_146.png',\n",
              " 'C128P89ThinF_IMG_20151004_131231_cell_156.png',\n",
              " 'C88P49ThinF_IMG_20150820_151451_cell_206.png',\n",
              " 'C51AP12thinF_IMG_20150724_155557_cell_78.png',\n",
              " 'C59P20thinF_IMG_20150803_112802_cell_192.png',\n",
              " 'C59P20thinF_IMG_20150803_113430_cell_21.png',\n",
              " 'C159P120ThinF_IMG_20151115_191301_cell_230.png',\n",
              " 'C60P21thinF_IMG_20150804_105639_cell_7.png',\n",
              " 'C133P94ThinF_IMG_20151004_155912_cell_6.png',\n",
              " 'C175P136NThinF_IMG_20151127_141325_cell_230.png',\n",
              " 'C147P108ThinF_IMG_20151115_092605_cell_224.png',\n",
              " 'C137P98ThinF_IMG_20151005_160256_cell_68.png',\n",
              " 'C59P20thinF_IMG_20150803_113051_cell_169.png',\n",
              " 'C91P52ThinF_IMG_20150821_124504_cell_192.png',\n",
              " 'C128P89ThinF_IMG_20151004_131129_cell_162.png',\n",
              " 'C133P94ThinF_IMG_20151004_155912_cell_1.png',\n",
              " 'C59P20thinF_IMG_20150803_112802_cell_180.png',\n",
              " 'C60P21thinF_IMG_20150804_105639_cell_12.png',\n",
              " 'C58P19thinF_IMG_20150802_122338_cell_166.png',\n",
              " 'C132P93ThinF_IMG_20151004_153030_cell_14.png',\n",
              " 'C68P29N_ThinF_IMG_20150819_133236_cell_172.png',\n",
              " 'C132P93ThinF_IMG_20151004_152257_cell_146.png',\n",
              " 'C39P4thinF_original_IMG_20150622_110900_cell_12.png',\n",
              " 'C39P4thinF_original_IMG_20150622_113632_cell_20.png',\n",
              " 'C182P143NThinF_IMG_20151201_171905_cell_143.png',\n",
              " 'C48P9thinF_IMG_20150721_161055_cell_169.png',\n",
              " 'C133P94ThinF_IMG_20151004_154919_cell_121.png',\n",
              " 'C116P77ThinF_IMG_20150930_171635_cell_83.png',\n",
              " 'C84P45ThinF_IMG_20150818_102325_cell_101.png',\n",
              " 'C103P64ThinF_IMG_20150918_165510_cell_181.png',\n",
              " 'C128P89ThinF_IMG_20151004_130810_cell_154.png',\n",
              " 'C184P145ThinF_IMG_20151203_104334_cell_21.png',\n",
              " 'C182P143NThinF_IMG_20151201_172216_cell_138.png',\n",
              " 'C182P143NThinF_IMG_20151201_172759_cell_2.png',\n",
              " 'C129P90ThinF_IMG_20151004_134306_cell_124.png',\n",
              " 'C132P93ThinF_IMG_20151004_151733_cell_146.png',\n",
              " 'C119P80ThinF_IMG_20151002_124345_cell_165.png',\n",
              " 'C176P137NThinF_IMG_20151201_114035_cell_126.png',\n",
              " 'C114P75ThinF_IMG_20150930_150145_cell_160.png',\n",
              " 'C39P4thinF_original_IMG_20150622_110115_cell_126.png',\n",
              " 'C182P143NThinF_IMG_20151201_172759_cell_31.png',\n",
              " 'C118P79ThinF_IMG_20151002_110002_cell_20.png',\n",
              " 'C119P80ThinF_IMG_20151002_124345_cell_156.png',\n",
              " 'C67P28N_ThinF_IMG_20150819_121456_cell_255.png',\n",
              " 'C117P78ThinF_IMG_20150930_222228_cell_85.png',\n",
              " 'C129P90ThinF_IMG_20151004_133421_cell_101.png',\n",
              " 'C144P105ThinF_IMG_20151015_155004_cell_305.png',\n",
              " 'C135P96ThinF_IMG_20151005_123857_cell_160.png',\n",
              " 'C82P43ThinF_IMG_20150817_125114_cell_6.png',\n",
              " 'C182P143NThinF_IMG_20151201_172759_cell_51.png',\n",
              " 'C59P20thinF_IMG_20150803_113051_cell_193.png',\n",
              " 'C132P93ThinF_IMG_20151004_152505_cell_115.png',\n",
              " 'C39P4thinF_original_IMG_20150622_110352_cell_111.png',\n",
              " 'C177P138NThinF_IMG_20151201_143704_cell_178.png',\n",
              " 'C129P90ThinF_IMG_20151004_133244_cell_96.png',\n",
              " 'C132P93ThinF_IMG_20151004_152808_cell_57.png',\n",
              " 'C137P98ThinF_IMG_20151005_155444_cell_95.png',\n",
              " 'C48P9thinF_IMG_20150721_161055_cell_187.png',\n",
              " 'C144P105ThinF_IMG_20151015_160529_cell_271.png',\n",
              " 'C99P60ThinF_IMG_20150918_141620_cell_24.png',\n",
              " 'C99P60ThinF_IMG_20150918_140900_cell_146.png',\n",
              " 'C66P27N_ThinF_IMG_20150818_164754_cell_195.png',\n",
              " 'C182P143NThinF_IMG_20151201_172216_cell_131.png',\n",
              " 'C56P17thinF_IMG_20150728_153413_cell_114.png',\n",
              " 'C145P106ThinF_IMG_20151016_155121_cell_192.png',\n",
              " 'C132P93ThinF_IMG_20151004_152808_cell_42.png',\n",
              " 'C182P143NThinF_IMG_20151201_171905_cell_185.png',\n",
              " 'C66P27N_ThinF_IMG_20150818_163419_cell_210.png',\n",
              " 'C180P141NThinF_IMG_20151201_163751_cell_150.png',\n",
              " 'C103P64ThinF_IMG_20150918_164553_cell_167.png',\n",
              " 'C76P37ThinF_IMG_20150815_171454_cell_248.png',\n",
              " 'C118P79ThinF_IMG_20151002_110002_cell_17.png',\n",
              " 'C132P93ThinF_IMG_20151004_152808_cell_30.png',\n",
              " 'C82P43ThinF_IMG_20150817_124010_cell_186.png',\n",
              " 'C93P54ThinF_IMG_20150821_163815_cell_215.png',\n",
              " 'C179P140ThinF_IMG_20151127_153453_cell_181.png',\n",
              " 'C137P98ThinF_IMG_20151005_160918_cell_64.png',\n",
              " 'C101P62ThinF_IMG_20150923_170246_cell_79.png',\n",
              " 'C181P142ThinF_IMG_20151127_155914_cell_160.png',\n",
              " 'C91P52ThinF_IMG_20150821_124937_cell_216.png',\n",
              " 'C59P20thinF_IMG_20150803_112802_cell_157.png',\n",
              " 'C144P105ThinF_IMG_20151015_160529_cell_277.png',\n",
              " 'C137P98ThinF_IMG_20151005_163335_cell_12.png',\n",
              " 'C180P141NThinF_IMG_20151201_165659_cell_43.png',\n",
              " 'C132P93ThinF_IMG_20151004_151701_cell_172.png',\n",
              " 'C39P4thinF_original_IMG_20150622_105335_cell_2.png',\n",
              " 'C97P58ThinF_IMG_20150917_152225_cell_22.png',\n",
              " 'C99P60ThinF_IMG_20150918_141001_cell_147.png',\n",
              " 'C91P52ThinF_IMG_20150821_124739_cell_190.png',\n",
              " 'C89P50ThinF_IMG_20150820_162504_cell_191.png',\n",
              " 'C182P143NThinF_IMG_20151201_172759_cell_30.png',\n",
              " 'C134P95ThinF_IMG_20151005_121554_cell_122.png',\n",
              " 'C180P141NThinF_IMG_20151201_165601_cell_185.png',\n",
              " 'C45P6ThinF_IMG_20151130_155110_cell_199.png',\n",
              " 'C172P133ThinF_IMG_20151119_155343_cell_267.png',\n",
              " 'C176P137NThinF_IMG_20151201_120612_cell_5.png',\n",
              " 'C82P43ThinF_IMG_20150817_123652_cell_217.png',\n",
              " 'C68P29N_ThinF_IMG_20150819_133236_cell_153.png',\n",
              " 'C59P20thinF_IMG_20150803_112802_cell_173.png',\n",
              " 'C68P29N_ThinF_IMG_20150819_134112_cell_161.png',\n",
              " 'C103P64ThinF_IMG_20150918_165125_cell_164.png',\n",
              " 'C100P61ThinF_IMG_20150918_145609_cell_146.png',\n",
              " 'C66P27N_ThinF_IMG_20150818_164408_cell_156.png',\n",
              " 'C133P94ThinF_IMG_20151004_154158_cell_118.png',\n",
              " 'C99P60ThinF_IMG_20150918_141520_cell_133.png',\n",
              " 'C59P20thinF_IMG_20150803_113430_cell_26.png',\n",
              " 'C124P85ThinF_IMG_20151002_154846_cell_148.png',\n",
              " 'C133P94ThinF_IMG_20151004_155721_cell_122.png',\n",
              " 'C59P20thinF_IMG_20150803_111244_cell_199.png',\n",
              " 'C133P94ThinF_IMG_20151004_154717_cell_129.png',\n",
              " 'C176P137NThinF_IMG_20151201_122708_cell_145.png',\n",
              " 'C175P136NThinF_IMG_20151127_141428_cell_222.png',\n",
              " 'C99P60ThinF_IMG_20150918_140900_cell_137.png',\n",
              " 'C116P77ThinF_IMG_20150930_171954_cell_90.png',\n",
              " 'C182P143NThinF_IMG_20151201_171905_cell_171.png',\n",
              " 'C172P133ThinF_IMG_20151119_155343_cell_276.png',\n",
              " 'C129P90ThinF_IMG_20151004_134306_cell_140.png',\n",
              " 'C49P10thinF_IMG_20150724_102330_cell_231.png',\n",
              " 'C82P43ThinF_IMG_20150817_123500_cell_234.png',\n",
              " 'C78P39ThinF_IMG_20150606_103413_cell_166.png',\n",
              " 'C97P58ThinF_IMG_20150917_150838_cell_150.png',\n",
              " 'C167P128ReThinF_IMG_20151201_110011_cell_231.png',\n",
              " 'C99P60ThinF_IMG_20150918_141314_cell_120.png',\n",
              " 'C91P52ThinF_IMG_20150821_125154_cell_207.png',\n",
              " 'C120P81ThinF_IMG_20151002_125443_cell_143.png',\n",
              " 'C136P97ThinF_IMG_20151005_141321_cell_92.png',\n",
              " 'C180P141NThinF_IMG_20151201_165528_cell_184.png',\n",
              " 'C137P98ThinF_IMG_20151005_160918_cell_83.png',\n",
              " 'C132P93ThinF_IMG_20151004_151941_cell_52.png',\n",
              " 'C140P101ThinF_IMG_20151005_210207_cell_164.png',\n",
              " 'C99P60ThinF_IMG_20150918_141351_cell_135.png',\n",
              " 'C70P31_ThinF_IMG_20150813_131708_cell_3.png',\n",
              " 'C101P62ThinF_IMG_20150918_151335_cell_74.png',\n",
              " 'C46P7ThinF_IMG_20151130_210843_cell_145.png',\n",
              " 'C63P24N_ThinF_IMG_20150818_143423_cell_165.png',\n",
              " 'C113P74ThinF_IMG_20150930_135904_cell_182.png',\n",
              " 'C66P27N_ThinF_IMG_20150818_163419_cell_209.png',\n",
              " 'C84P45ThinF_IMG_20150818_102800_cell_20.png',\n",
              " 'C157P118ThinF_IMG_20151115_164755_cell_187.png',\n",
              " 'C182P143NThinF_IMG_20151201_172257_cell_187.png',\n",
              " 'C132P93ThinF_IMG_20151004_152808_cell_54.png',\n",
              " 'C132P93ThinF_IMG_20151004_152257_cell_121.png',\n",
              " 'C187P148NThinF_IMG_20151203_154249_cell_136.png',\n",
              " 'C132P93ThinF_IMG_20151004_151811_cell_141.png',\n",
              " 'C99P60ThinF_IMG_20150918_141857_cell_37.png',\n",
              " 'C39P4thinF_original_IMG_20150622_105253_cell_96.png',\n",
              " 'C129P90ThinF_IMG_20151004_134700_cell_33.png',\n",
              " 'C39P4thinF_original_IMG_20150622_105803_cell_89.png',\n",
              " 'C39P4thinF_original_IMG_20150622_114804_cell_5.png',\n",
              " 'C99P60ThinF_IMG_20150918_141001_cell_129.png',\n",
              " 'C136P97ThinF_IMG_20151005_142627_cell_4.png',\n",
              " 'C136P97ThinF_IMG_20151005_144449_cell_17.png',\n",
              " 'C111P72ThinF_IMG_20150930_113049_cell_162.png',\n",
              " 'C68P29N_ThinF_IMG_20150819_134504_cell_158.png',\n",
              " 'C91P52ThinF_IMG_20150821_124311_cell_21.png',\n",
              " 'C132P93ThinF_IMG_20151004_153030_cell_42.png',\n",
              " 'C130P91ThinF_IMG_20151004_135449_cell_131.png',\n",
              " 'C129P90ThinF_IMG_20151004_133538_cell_87.png',\n",
              " 'C176P137NThinF_IMG_20151201_122811_cell_146.png',\n",
              " 'C93P54ThinF_IMG_20150821_164024_cell_208.png',\n",
              " 'C147P108ThinF_IMG_20151115_101317_cell_192.png',\n",
              " 'C70P31_ThinF_IMG_20150813_131609_cell_100.png',\n",
              " 'C59P20thinF_IMG_20150803_113139_cell_4.png',\n",
              " 'C184P145ThinF_IMG_20151203_104153_cell_151.png',\n",
              " 'C183P144NThinF_IMG_20151201_222917_cell_154.png',\n",
              " 'C158P119ThinF_IMG_20151115_181558_cell_199.png',\n",
              " 'C82P43ThinF_IMG_20150817_124010_cell_202.png',\n",
              " 'C99P60ThinF_IMG_20150918_141001_cell_104.png',\n",
              " 'C180P141NThinF_IMG_20151201_165453_cell_52.png',\n",
              " 'C99P60ThinF_IMG_20150918_141314_cell_104.png',\n",
              " 'C118P79ThinF_IMG_20151002_105125_cell_147.png',\n",
              " 'C175P136NThinF_IMG_20151127_141428_cell_230.png',\n",
              " 'C59P20thinF_IMG_20150803_113430_cell_27.png',\n",
              " 'C136P97ThinF_IMG_20151005_140646_cell_108.png',\n",
              " 'C107P68ThinF_IMG_20150924_222415_cell_173.png',\n",
              " 'C59P20thinF_IMG_20150803_113139_cell_36.png',\n",
              " 'C181P142ThinF_IMG_20151127_160539_cell_199.png',\n",
              " 'C145P106ThinF_IMG_20151016_155121_cell_195.png',\n",
              " 'C130P91ThinF_IMG_20151004_142109_cell_146.png',\n",
              " 'C182P143NThinF_IMG_20151201_172257_cell_198.png',\n",
              " 'C172P133ThinF_IMG_20151119_154936_cell_262.png',\n",
              " 'C68P29N_ThinF_IMG_20150819_133350_cell_128.png',\n",
              " 'C182P143NThinF_IMG_20151201_172524_cell_203.png',\n",
              " 'C101P62ThinF_IMG_20150923_170246_cell_70.png',\n",
              " 'C182P143NThinF_IMG_20151201_171950_cell_183.png',\n",
              " 'C91P52ThinF_IMG_20150821_123314_cell_197.png',\n",
              " 'C184P145ThinF_IMG_20151203_104440_cell_23.png',\n",
              " 'C170P131ThinF_IMG_20151119_115918_cell_272.png',\n",
              " 'C183P144NThinF_IMG_20151201_222119_cell_131.png',\n",
              " 'C180P141NThinF_IMG_20151201_165453_cell_44.png',\n",
              " 'C112P73ThinF_IMG_20150930_131605_cell_183.png',\n",
              " 'C158P119ThinF_IMG_20151115_181859_cell_196.png',\n",
              " 'C181P142ThinF_IMG_20151127_160650_cell_184.png',\n",
              " 'C136P97ThinF_IMG_20151005_143743_cell_125.png',\n",
              " 'C136P97ThinF_IMG_20151005_140538_cell_103.png',\n",
              " 'C116P77ThinF_IMG_20150930_171635_cell_76.png',\n",
              " 'C116P77ThinF_IMG_20150930_171844_cell_122.png',\n",
              " 'C180P141NThinF_IMG_20151201_165528_cell_177.png',\n",
              " 'C134P95ThinF_IMG_20151005_121952_cell_122.png',\n",
              " 'C99P60ThinF_IMG_20150918_141520_cell_111.png',\n",
              " 'C66P27N_ThinF_IMG_20150818_164408_cell_152.png',\n",
              " 'C180P141NThinF_IMG_20151201_165423_cell_155.png',\n",
              " 'C68P29N_ThinF_IMG_20150819_134625_cell_55.png',\n",
              " 'C93P54ThinF_IMG_20150821_162641_cell_223.png',\n",
              " 'C168P129ThinF_IMG_20151118_160516_cell_177.png',\n",
              " 'C68P29N_ThinF_IMG_20150819_133236_cell_202.png',\n",
              " 'C97P58ThinF_IMG_20150917_145555_cell_176.png',\n",
              " 'C184P145ThinF_IMG_20151203_103326_cell_136.png',\n",
              " 'C82P43ThinF_IMG_20150817_123500_cell_227.png',\n",
              " 'C132P93ThinF_IMG_20151004_151701_cell_152.png',\n",
              " 'C99P60ThinF_IMG_20150918_141857_cell_25.png',\n",
              " 'C48P9thinF_IMG_20150721_164031_cell_25.png',\n",
              " 'C70P31_ThinF_IMG_20150819_142703_cell_20.png',\n",
              " 'C89P50ThinF_IMG_20150820_163347_cell_204.png',\n",
              " 'C68P29N_ThinF_IMG_20150819_134326_cell_138.png',\n",
              " 'C59P20thinF_IMG_20150803_111244_cell_181.png',\n",
              " 'C99P60ThinF_IMG_20150918_141001_cell_101.png',\n",
              " 'C132P93ThinF_IMG_20151004_152045_cell_153.png',\n",
              " 'C84P45ThinF_IMG_20150818_104849_cell_5.png',\n",
              " 'C184P145ThinF_IMG_20151203_104334_cell_48.png',\n",
              " 'C129P90ThinF_IMG_20151004_133421_cell_98.png',\n",
              " 'C183P144NThinF_IMG_20151201_223208_cell_116.png',\n",
              " 'C70P31_ThinF_IMG_20150813_131022_cell_92.png',\n",
              " 'C99P60ThinF_IMG_20150918_141351_cell_100.png',\n",
              " 'C84P45ThinF_IMG_20150818_101257_cell_84.png',\n",
              " 'C180P141NThinF_IMG_20151201_170021_cell_13.png',\n",
              " 'C184P145ThinF_IMG_20151203_104440_cell_24.png',\n",
              " 'C39P4thinF_original_IMG_20150622_111723_cell_98.png',\n",
              " 'C154P115ThinF_IMG_20151115_141407_cell_228.png',\n",
              " 'C154P115ThinF_IMG_20151115_141407_cell_225.png',\n",
              " 'C182P143NThinF_IMG_20151201_171950_cell_176.png',\n",
              " 'C132P93ThinF_IMG_20151004_151701_cell_163.png',\n",
              " 'C91P52ThinF_IMG_20150821_124311_cell_34.png',\n",
              " 'C137P98ThinF_IMG_20151005_162348_cell_5.png',\n",
              " 'C184P145ThinF_IMG_20151203_102543_cell_168.png',\n",
              " 'C133P94ThinF_IMG_20151004_154512_cell_131.png',\n",
              " 'C114P75ThinF_IMG_20150930_150013_cell_196.png',\n",
              " 'C119P80ThinF_IMG_20151002_122720_cell_169.png',\n",
              " 'C93P54ThinF_IMG_20150821_163640_cell_207.png',\n",
              " 'C59P20thinF_IMG_20150803_113430_cell_35.png',\n",
              " 'C186P147NThinF_IMG_20151203_150222_cell_173.png',\n",
              " 'C48P9thinF_IMG_20150721_164304_cell_21.png',\n",
              " 'C99P60ThinF_IMG_20150918_141129_cell_155.png',\n",
              " 'C82P43ThinF_IMG_20150817_124010_cell_201.png',\n",
              " 'C59P20thinF_IMG_20150803_112733_cell_165.png',\n",
              " 'C49P10thinF_IMG_20150724_102843_cell_184.png',\n",
              " 'C119P80ThinF_IMG_20151002_123608_cell_145.png',\n",
              " 'C39P4thinF_original_IMG_20150622_113632_cell_13.png',\n",
              " 'C129P90ThinF_IMG_20151004_134944_cell_4.png',\n",
              " 'C129P90ThinF_IMG_20151004_133538_cell_104.png',\n",
              " 'C99P60ThinF_IMG_20150918_141520_cell_94.png',\n",
              " 'C184P145ThinF_IMG_20151203_104153_cell_157.png',\n",
              " 'C133P94ThinF_IMG_20151004_155518_cell_107.png',\n",
              " 'C48P9thinF_IMG_20150721_162732_cell_21.png',\n",
              " 'C70P31_ThinF_IMG_20150813_131330_cell_97.png',\n",
              " 'C120P81ThinF_IMG_20151002_130918_cell_204.png',\n",
              " 'C70P31_ThinF_IMG_20150819_141327_cell_74.png',\n",
              " 'C184P145ThinF_IMG_20151203_103114_cell_173.png',\n",
              " 'C181P142ThinF_IMG_20151127_160434_cell_176.png',\n",
              " 'C39P4thinF_original_IMG_20150622_114609_cell_17.png',\n",
              " 'C189P150ThinF_IMG_20151203_142113_cell_89.png',\n",
              " 'C59P20thinF_IMG_20150803_111244_cell_190.png',\n",
              " 'C107P68ThinF_IMG_20150924_222535_cell_145.png',\n",
              " 'C51AP12thinF_IMG_20150724_162636_cell_95.png',\n",
              " 'C91P52ThinF_IMG_20150821_125423_cell_14.png',\n",
              " 'C140P101ThinF_IMG_20151005_210026_cell_169.png',\n",
              " 'C82P43ThinF_IMG_20150817_124418_cell_178.png',\n",
              " 'C137P98ThinF_IMG_20151005_163218_cell_81.png',\n",
              " 'C137P98ThinF_IMG_20151005_160122_cell_68.png',\n",
              " 'C48P9thinF_IMG_20150721_162732_cell_6.png',\n",
              " 'C70P31_ThinF_IMG_20150819_141730_cell_106.png',\n",
              " 'C118P79ThinF_IMG_20151002_110942_cell_13.png',\n",
              " 'C84P45ThinF_IMG_20150818_101146_cell_103.png',\n",
              " 'C189P150ThinF_IMG_20151203_141004_cell_79.png',\n",
              " 'C80P41ThinF_IMG_20150817_110608_cell_155.png',\n",
              " 'C184P145ThinF_IMG_20151203_103637_cell_186.png',\n",
              " 'C97P58ThinF_IMG_20150917_152032_cell_155.png',\n",
              " 'C180P141NThinF_IMG_20151201_165453_cell_23.png',\n",
              " 'C59P20thinF_IMG_20150803_113809_cell_25.png',\n",
              " 'C116P77ThinF_IMG_20150930_171844_cell_94.png',\n",
              " 'C48P9thinF_IMG_20150721_164031_cell_8.png',\n",
              " 'C136P97ThinF_IMG_20151005_143743_cell_110.png',\n",
              " 'C82P43ThinF_IMG_20150817_123500_cell_237.png',\n",
              " 'C111P72ThinF_IMG_20150930_113003_cell_182.png',\n",
              " 'C182P143NThinF_IMG_20151201_172216_cell_176.png',\n",
              " 'C68P29N_ThinF_IMG_20150819_134326_cell_144.png',\n",
              " 'C183P144NThinF_IMG_20151201_223431_cell_104.png',\n",
              " 'C144P105ThinF_IMG_20151015_160529_cell_269.png',\n",
              " 'C187P148NThinF_IMG_20151203_153410_cell_149.png',\n",
              " 'C187P148NThinF_IMG_20151203_154503_cell_156.png',\n",
              " 'C39P4thinF_original_IMG_20150622_105335_cell_12.png',\n",
              " 'C82P43ThinF_IMG_20150817_123824_cell_189.png',\n",
              " 'C181P142ThinF_IMG_20151127_160650_cell_181.png',\n",
              " 'C101P62ThinF_IMG_20150918_151006_cell_70.png',\n",
              " 'C68P29N_ThinF_IMG_20150819_134504_cell_106.png',\n",
              " 'C186P147NThinF_IMG_20151203_150322_cell_158.png',\n",
              " 'C116P77ThinF_IMG_20150930_171219_cell_98.png',\n",
              " 'C132P93ThinF_IMG_20151004_152045_cell_117.png',\n",
              " 'C113P74ThinF_IMG_20150930_134355_cell_171.png',\n",
              " 'C68P29N_ThinF_IMG_20150819_133350_cell_146.png',\n",
              " 'C133P94ThinF_IMG_20151004_155518_cell_110.png',\n",
              " 'C54P15thinF_IMG_20150728_112832_cell_251.png',\n",
              " 'C99P60ThinF_IMG_20150918_141314_cell_95.png',\n",
              " 'C179P140ThinF_IMG_20151127_153420_cell_169.png',\n",
              " 'C48P9thinF_IMG_20150721_164304_cell_28.png',\n",
              " 'C84P45ThinF_IMG_20150818_104849_cell_26.png',\n",
              " 'C68P29N_ThinF_IMG_20150819_134625_cell_18.png',\n",
              " 'C178P139NThinF_IMG_20151201_154524_cell_158.png',\n",
              " 'C91P52ThinF_IMG_20150821_125423_cell_16.png',\n",
              " 'C116P77ThinF_IMG_20150930_172112_cell_71.png',\n",
              " 'C136P97ThinF_IMG_20151005_140538_cell_110.png',\n",
              " 'C180P141NThinF_IMG_20151201_170110_cell_12.png',\n",
              " 'C120P81ThinF_IMG_20151002_125443_cell_142.png',\n",
              " 'C101P62ThinF_IMG_20150923_170344_cell_90.png',\n",
              " 'C181P142ThinF_IMG_20151127_160539_cell_185.png',\n",
              " 'C182P143NThinF_IMG_20151201_171950_cell_215.png',\n",
              " 'C189P150ThinF_IMG_20151203_142113_cell_82.png',\n",
              " 'C182P143NThinF_IMG_20151201_171905_cell_147.png',\n",
              " 'C59P20thinF_IMG_20150803_112802_cell_152.png',\n",
              " 'C137P98ThinF_IMG_20151005_163251_cell_78.png',\n",
              " 'C68P29N_ThinF_IMG_20150819_134712_cell_76.png',\n",
              " 'C184P145ThinF_IMG_20151203_103326_cell_140.png',\n",
              " 'C164P125ThinF_IMG_20151116_115650_cell_163.png',\n",
              " 'C39P4thinF_original_IMG_20150622_114804_cell_7.png',\n",
              " 'C180P141NThinF_IMG_20151201_165528_cell_174.png',\n",
              " 'C76P37ThinF_IMG_20150815_172808_cell_216.png',\n",
              " 'C118P79ThinF_IMG_20151002_105827_cell_149.png',\n",
              " 'C176P137NThinF_IMG_20151201_114035_cell_131.png',\n",
              " 'C120P81ThinF_IMG_20151002_130918_cell_213.png',\n",
              " 'C82P43ThinF_IMG_20150817_123500_cell_229.png',\n",
              " 'C68P29N_ThinF_IMG_20150819_133350_cell_190.png',\n",
              " 'C189P150ThinF_IMG_20151203_141110_cell_75.png',\n",
              " 'C131P92ThinF_IMG_20151004_145224_cell_137.png',\n",
              " 'C184P145ThinF_IMG_20151203_104153_cell_187.png',\n",
              " 'C117P78ThinF_IMG_20150930_214317_cell_103.png',\n",
              " 'C39P4thinF_original_IMG_20150622_105335_cell_17.png',\n",
              " 'C182P143NThinF_IMG_20151201_172216_cell_132.png',\n",
              " 'C137P98ThinF_IMG_20151005_160122_cell_66.png',\n",
              " 'C176P137NThinF_IMG_20151201_122444_cell_119.png',\n",
              " 'C33P1thinF_IMG_20150619_121300a_cell_156.png',\n",
              " 'C159P120ThinF_IMG_20151115_185541_cell_180.png',\n",
              " 'C48P9thinF_IMG_20150721_161412_cell_183.png',\n",
              " 'C116P77ThinF_IMG_20150930_171809_cell_75.png',\n",
              " 'C91P52ThinF_IMG_20150821_124739_cell_171.png',\n",
              " 'C99P60ThinF_IMG_20150918_141129_cell_141.png',\n",
              " 'C137P98ThinF_IMG_20151005_163218_cell_89.png',\n",
              " 'C148P109ThinF_IMG_20151115_112855_cell_256.png',\n",
              " 'C179P140ThinF_IMG_20151127_153420_cell_173.png',\n",
              " 'C128P89ThinF_IMG_20151004_131231_cell_147.png',\n",
              " 'C68P29N_ThinF_IMG_20150819_134504_cell_116.png',\n",
              " 'C68P29N_ThinF_IMG_20150819_133350_cell_167.png',\n",
              " 'C116P77ThinF_IMG_20150930_171809_cell_68.png',\n",
              " 'C133P94ThinF_IMG_20151004_153930_cell_102.png',\n",
              " 'C117P78ThinF_IMG_20150930_214941_cell_82.png',\n",
              " 'C68P29N_ThinF_IMG_20150819_133350_cell_187.png',\n",
              " 'C180P141NThinF_IMG_20151201_164714_cell_184.png',\n",
              " 'C70P31_ThinF_IMG_20150819_141403_cell_98.png',\n",
              " 'C157P118ThinF_IMG_20151115_164141_cell_204.png',\n",
              " 'C183P144NThinF_IMG_20151201_223431_cell_99.png',\n",
              " 'C106P67ThinF_IMG_20150924_103811_cell_183.png',\n",
              " 'C76P37ThinF_IMG_20150815_173019_cell_229.png',\n",
              " 'C116P77ThinF_IMG_20150930_172112_cell_94.png',\n",
              " ...]"
            ]
          },
          "metadata": {},
          "execution_count": 16
        }
      ],
      "source": [
        "os.listdir(train_path+'parasitized')"
      ]
    },
    {
      "cell_type": "code",
      "execution_count": null,
      "metadata": {
        "id": "U3zWAaJRsl9N",
        "colab": {
          "base_uri": "https://localhost:8080/"
        },
        "outputId": "8fb6fa45-a635-48a9-8a36-1493fcf1a9e1"
      },
      "outputs": [
        {
          "output_type": "execute_result",
          "data": {
            "text/plain": [
              "(12479, 12479)"
            ]
          },
          "metadata": {},
          "execution_count": 17
        }
      ],
      "source": [
        "len(os.listdir(train_path+'parasitized')), len(os.listdir(train_path+'uninfected'))"
      ]
    },
    {
      "cell_type": "code",
      "execution_count": null,
      "metadata": {
        "id": "pQluIckosl9O",
        "colab": {
          "base_uri": "https://localhost:8080/"
        },
        "outputId": "57ec520d-a8d4-4490-a63c-ceccd8879294"
      },
      "outputs": [
        {
          "output_type": "execute_result",
          "data": {
            "text/plain": [
              "(1300, 1300)"
            ]
          },
          "metadata": {},
          "execution_count": 18
        }
      ],
      "source": [
        "len(os.listdir(test_path+'parasitized')), len(os.listdir(test_path+'uninfected'))"
      ]
    },
    {
      "cell_type": "code",
      "execution_count": null,
      "metadata": {
        "id": "nz_3zdr4avaP",
        "colab": {
          "base_uri": "https://localhost:8080/"
        },
        "outputId": "b13ef530-855b-4232-ded4-8ab89f2f6224"
      },
      "outputs": [
        {
          "output_type": "stream",
          "name": "stdout",
          "text": [
            "There are 2 directories and 0 images in 'cell_images'.\n",
            "There are 2 directories and 0 images in 'cell_images/test'.\n",
            "There are 0 directories and 1300 images in 'cell_images/test/uninfected'.\n",
            "There are 0 directories and 1300 images in 'cell_images/test/parasitized'.\n",
            "There are 2 directories and 0 images in 'cell_images/train'.\n",
            "There are 0 directories and 12479 images in 'cell_images/train/uninfected'.\n",
            "There are 0 directories and 12479 images in 'cell_images/train/parasitized'.\n"
          ]
        }
      ],
      "source": [
        "# Walk through cell_images directory and list number of files\n",
        "for dirpath, dirnames, filenames in os.walk(my_data_dir):\n",
        "  print(f\"There are {len(dirnames)} directories and {len(filenames)} images in '{dirpath}'.\")"
      ]
    },
    {
      "cell_type": "markdown",
      "metadata": {
        "id": "2docX2FutRHv"
      },
      "source": [
        "**Let's take an example images from both train-parasitized and train-uninfected folders to observe process** "
      ]
    },
    {
      "cell_type": "code",
      "execution_count": null,
      "metadata": {
        "id": "wUZcZtQWsl9I",
        "colab": {
          "base_uri": "https://localhost:8080/"
        },
        "outputId": "e51fc3c5-dc29-44e4-fb11-6b1d8927f0d4"
      },
      "outputs": [
        {
          "output_type": "execute_result",
          "data": {
            "text/plain": [
              "['C144P105ThinF_IMG_20151015_155004_cell_310.png',\n",
              " 'C39P4thinF_original_IMG_20150622_105253_cell_92.png',\n",
              " 'C186P147NThinF_IMG_20151203_150408_cell_184.png',\n",
              " 'C46P7ThinF_IMG_20151130_205828_cell_151.png',\n",
              " 'C45P6ThinF_IMG_20151130_155110_cell_207.png',\n",
              " 'C39P4thinF_original_IMG_20150622_105335_cell_27.png',\n",
              " 'C185P146ThinF_IMG_20151203_110344_cell_265.png',\n",
              " 'C48P9thinF_IMG_20150721_161243_cell_153.png',\n",
              " 'C172P133ThinF_IMG_20151119_155156_cell_255.png',\n",
              " 'C60P21thinF_IMG_20150804_113011_cell_2.png']"
            ]
          },
          "metadata": {},
          "execution_count": 20
        }
      ],
      "source": [
        "os.listdir(train_path+'parasitized')[:10]"
      ]
    },
    {
      "cell_type": "code",
      "execution_count": null,
      "metadata": {
        "id": "90IdG6knsl9J",
        "colab": {
          "base_uri": "https://localhost:8080/",
          "height": 35
        },
        "outputId": "c5a5b287-985c-4db9-cb03-01daaa0038a3"
      },
      "outputs": [
        {
          "output_type": "execute_result",
          "data": {
            "text/plain": [
              "'C39P4thinF_original_IMG_20150622_105335_cell_27.png'"
            ],
            "application/vnd.google.colaboratory.intrinsic+json": {
              "type": "string"
            }
          },
          "metadata": {},
          "execution_count": 21
        }
      ],
      "source": [
        "os.listdir(train_path+'parasitized')[5]"
      ]
    },
    {
      "cell_type": "code",
      "execution_count": null,
      "metadata": {
        "id": "rKvIiLAssl9J"
      },
      "outputs": [],
      "source": [
        "para_cell_path = train_path+'parasitized'+'/C68P29N_ThinF_IMG_20150819_134504_cell_120.png'"
      ]
    },
    {
      "cell_type": "code",
      "execution_count": null,
      "metadata": {
        "id": "L5V2hllmsl9J",
        "colab": {
          "base_uri": "https://localhost:8080/",
          "height": 35
        },
        "outputId": "5b78398c-bb20-40d9-fbaa-5876aba9a95a"
      },
      "outputs": [
        {
          "output_type": "execute_result",
          "data": {
            "text/plain": [
              "'cell_images/train/parasitized/C68P29N_ThinF_IMG_20150819_134504_cell_120.png'"
            ],
            "application/vnd.google.colaboratory.intrinsic+json": {
              "type": "string"
            }
          },
          "metadata": {},
          "execution_count": 23
        }
      ],
      "source": [
        "para_cell_path"
      ]
    },
    {
      "cell_type": "code",
      "execution_count": null,
      "metadata": {
        "id": "bgtb1aRfsl9K",
        "colab": {
          "base_uri": "https://localhost:8080/"
        },
        "outputId": "db751e9b-a36c-4ae0-ac96-2ae7cc728ea5"
      },
      "outputs": [
        {
          "output_type": "execute_result",
          "data": {
            "text/plain": [
              "array([[[0., 0., 0.],\n",
              "        [0., 0., 0.],\n",
              "        [0., 0., 0.],\n",
              "        ...,\n",
              "        [0., 0., 0.],\n",
              "        [0., 0., 0.],\n",
              "        [0., 0., 0.]],\n",
              "\n",
              "       [[0., 0., 0.],\n",
              "        [0., 0., 0.],\n",
              "        [0., 0., 0.],\n",
              "        ...,\n",
              "        [0., 0., 0.],\n",
              "        [0., 0., 0.],\n",
              "        [0., 0., 0.]],\n",
              "\n",
              "       [[0., 0., 0.],\n",
              "        [0., 0., 0.],\n",
              "        [0., 0., 0.],\n",
              "        ...,\n",
              "        [0., 0., 0.],\n",
              "        [0., 0., 0.],\n",
              "        [0., 0., 0.]],\n",
              "\n",
              "       ...,\n",
              "\n",
              "       [[0., 0., 0.],\n",
              "        [0., 0., 0.],\n",
              "        [0., 0., 0.],\n",
              "        ...,\n",
              "        [0., 0., 0.],\n",
              "        [0., 0., 0.],\n",
              "        [0., 0., 0.]],\n",
              "\n",
              "       [[0., 0., 0.],\n",
              "        [0., 0., 0.],\n",
              "        [0., 0., 0.],\n",
              "        ...,\n",
              "        [0., 0., 0.],\n",
              "        [0., 0., 0.],\n",
              "        [0., 0., 0.]],\n",
              "\n",
              "       [[0., 0., 0.],\n",
              "        [0., 0., 0.],\n",
              "        [0., 0., 0.],\n",
              "        ...,\n",
              "        [0., 0., 0.],\n",
              "        [0., 0., 0.],\n",
              "        [0., 0., 0.]]], dtype=float32)"
            ]
          },
          "metadata": {},
          "execution_count": 24
        }
      ],
      "source": [
        "imread(para_cell_path)"
      ]
    },
    {
      "cell_type": "code",
      "execution_count": null,
      "metadata": {
        "id": "GsObRYqksl9K"
      },
      "outputs": [],
      "source": [
        "para_cell= imread(para_cell_path)"
      ]
    },
    {
      "cell_type": "code",
      "execution_count": null,
      "metadata": {
        "id": "7E8cwW2osl9K",
        "colab": {
          "base_uri": "https://localhost:8080/",
          "height": 377
        },
        "outputId": "8d0fcfff-b130-4dd5-af46-055563a811cb"
      },
      "outputs": [
        {
          "output_type": "display_data",
          "data": {
            "text/plain": [
              "<Figure size 720x432 with 1 Axes>"
            ],
            "image/png": "[encoded data removed]"
          },
          "metadata": {}
        }
      ],
      "source": [
        "plt.imshow(para_cell);"
      ]
    },
    {
      "cell_type": "code",
      "execution_count": null,
      "metadata": {
        "id": "XDpeTqBdsl9L",
        "colab": {
          "base_uri": "https://localhost:8080/"
        },
        "outputId": "65a5476f-be4e-4060-8163-b2308f6f8e24"
      },
      "outputs": [
        {
          "output_type": "execute_result",
          "data": {
            "text/plain": [
              "(172, 154, 3)"
            ]
          },
          "metadata": {},
          "execution_count": 27
        }
      ],
      "source": [
        "para_cell.shape"
      ]
    },
    {
      "cell_type": "code",
      "execution_count": null,
      "metadata": {
        "id": "pj1xYpfksl9M",
        "colab": {
          "base_uri": "https://localhost:8080/"
        },
        "outputId": "1bd92c91-964d-4604-950a-897d320eac7d"
      },
      "outputs": [
        {
          "output_type": "execute_result",
          "data": {
            "text/plain": [
              "['C130P91ThinF_IMG_20151004_141428_cell_23.png',\n",
              " 'C170P131ThinF_IMG_20151119_120150_cell_121.png',\n",
              " 'C52P13thinF_IMG_20150725_124830_cell_86.png',\n",
              " 'C75P36_ThinF_IMG_20150815_163015_cell_14.png',\n",
              " 'C117P78ThinF_IMG_20150930_221927_cell_67.png',\n",
              " 'C183P144NThinF_IMG_20151201_223208_cell_50.png',\n",
              " 'C184P145ThinF_IMG_20151203_103326_cell_87.png',\n",
              " 'C95P56ThinF_IMG_20150821_171530_cell_4.png',\n",
              " 'C120P81ThinF_IMG_20151002_130918_cell_153.png',\n",
              " 'C232ThinF_IMG_20151112_154211_cell_158.png']"
            ]
          },
          "metadata": {},
          "execution_count": 28
        }
      ],
      "source": [
        "os.listdir(train_path+'uninfected')[:10]"
      ]
    },
    {
      "cell_type": "code",
      "execution_count": null,
      "metadata": {
        "id": "scyqIWQmsl9M"
      },
      "outputs": [],
      "source": [
        "uninfected_cell_path = train_path+'uninfected/'+os.listdir(train_path+'uninfected')[5]"
      ]
    },
    {
      "cell_type": "code",
      "execution_count": null,
      "metadata": {
        "id": "8sac1keAsl9M",
        "colab": {
          "base_uri": "https://localhost:8080/"
        },
        "outputId": "f559680e-b533-438e-f30e-f155e0a43ce5"
      },
      "outputs": [
        {
          "output_type": "execute_result",
          "data": {
            "text/plain": [
              "array([[[0., 0., 0.],\n",
              "        [0., 0., 0.],\n",
              "        [0., 0., 0.],\n",
              "        ...,\n",
              "        [0., 0., 0.],\n",
              "        [0., 0., 0.],\n",
              "        [0., 0., 0.]],\n",
              "\n",
              "       [[0., 0., 0.],\n",
              "        [0., 0., 0.],\n",
              "        [0., 0., 0.],\n",
              "        ...,\n",
              "        [0., 0., 0.],\n",
              "        [0., 0., 0.],\n",
              "        [0., 0., 0.]],\n",
              "\n",
              "       [[0., 0., 0.],\n",
              "        [0., 0., 0.],\n",
              "        [0., 0., 0.],\n",
              "        ...,\n",
              "        [0., 0., 0.],\n",
              "        [0., 0., 0.],\n",
              "        [0., 0., 0.]],\n",
              "\n",
              "       ...,\n",
              "\n",
              "       [[0., 0., 0.],\n",
              "        [0., 0., 0.],\n",
              "        [0., 0., 0.],\n",
              "        ...,\n",
              "        [0., 0., 0.],\n",
              "        [0., 0., 0.],\n",
              "        [0., 0., 0.]],\n",
              "\n",
              "       [[0., 0., 0.],\n",
              "        [0., 0., 0.],\n",
              "        [0., 0., 0.],\n",
              "        ...,\n",
              "        [0., 0., 0.],\n",
              "        [0., 0., 0.],\n",
              "        [0., 0., 0.]],\n",
              "\n",
              "       [[0., 0., 0.],\n",
              "        [0., 0., 0.],\n",
              "        [0., 0., 0.],\n",
              "        ...,\n",
              "        [0., 0., 0.],\n",
              "        [0., 0., 0.],\n",
              "        [0., 0., 0.]]], dtype=float32)"
            ]
          },
          "metadata": {},
          "execution_count": 30
        }
      ],
      "source": [
        "imread(uninfected_cell_path)"
      ]
    },
    {
      "cell_type": "code",
      "execution_count": null,
      "metadata": {
        "id": "GYQ6VT4Esl9N",
        "colab": {
          "base_uri": "https://localhost:8080/",
          "height": 377
        },
        "outputId": "c4d87078-800d-4630-88d7-9257d9652725"
      },
      "outputs": [
        {
          "output_type": "display_data",
          "data": {
            "text/plain": [
              "<Figure size 720x432 with 1 Axes>"
            ],
            "image/png": "[encoded data removed]"
          },
          "metadata": {}
        }
      ],
      "source": [
        "#plt.imshow(imread(uninfected_cell_path));\n",
        "uninfected_cell = imread(uninfected_cell_path)\n",
        "plt.imshow(uninfected_cell);"
      ]
    },
    {
      "cell_type": "code",
      "execution_count": null,
      "metadata": {
        "id": "GREBe_GIrZtp",
        "colab": {
          "base_uri": "https://localhost:8080/"
        },
        "outputId": "ff867999-270f-42e5-dbc5-2b0377b81fd0"
      },
      "outputs": [
        {
          "output_type": "execute_result",
          "data": {
            "text/plain": [
              "(118, 100, 3)"
            ]
          },
          "metadata": {},
          "execution_count": 32
        }
      ],
      "source": [
        "uninfected_cell.shape"
      ]
    },
    {
      "cell_type": "code",
      "execution_count": null,
      "metadata": {
        "id": "E0jEJVskgsKG"
      },
      "outputs": [],
      "source": [
        "# View a random image\n",
        "import random\n",
        "\n",
        "def view_random_image(target_dir, target_class):\n",
        "  # Setup target directory (we'll view images from here)\n",
        "  target_folder = target_dir+target_class\n",
        "\n",
        "  # Get a random image path\n",
        "  random_image = random.sample(os.listdir(target_folder), 1)\n",
        "\n",
        "  # Read in the image and plot it using matplotlib\n",
        "  img = imread(target_folder + \"/\" + random_image[0])\n",
        "  plt.imshow(img)\n",
        "  plt.title(target_class)\n",
        "  plt.axis(\"off\");\n",
        "\n",
        "  print(f\"Image shape: {img.shape}\") # show the shape of the image\n",
        "\n",
        "  return img"
      ]
    },
    {
      "cell_type": "code",
      "execution_count": null,
      "metadata": {
        "id": "khW2E0HmgsUe",
        "colab": {
          "base_uri": "https://localhost:8080/",
          "height": 390
        },
        "outputId": "91564f31-f72a-44fc-9a1a-386de5222fa8"
      },
      "outputs": [
        {
          "output_type": "stream",
          "name": "stdout",
          "text": [
            "Image shape: (148, 127, 3)\n"
          ]
        },
        {
          "output_type": "display_data",
          "data": {
            "text/plain": [
              "<Figure size 720x432 with 1 Axes>"
            ],
            "image/png": "[encoded data removed]"
          },
          "metadata": {}
        }
      ],
      "source": [
        "# View a random image from the training dataset\n",
        "img = view_random_image(target_dir=train_path,\n",
        "                        target_class=\"parasitized\")"
      ]
    },
    {
      "cell_type": "code",
      "execution_count": null,
      "metadata": {
        "id": "BcEpw1GPgseo",
        "colab": {
          "base_uri": "https://localhost:8080/",
          "height": 390
        },
        "outputId": "26505eac-3d98-4621-b691-d37c8c5c5ab6"
      },
      "outputs": [
        {
          "output_type": "stream",
          "name": "stdout",
          "text": [
            "Image shape: (139, 145, 3)\n"
          ]
        },
        {
          "output_type": "display_data",
          "data": {
            "text/plain": [
              "<Figure size 720x432 with 1 Axes>"
            ],
            "image/png": "[encoded data removed]"
          },
          "metadata": {}
        }
      ],
      "source": [
        "# View a random image from the training dataset\n",
        "img = view_random_image(target_dir=train_path,\n",
        "                        target_class=\"uninfected\")"
      ]
    },
    {
      "cell_type": "code",
      "execution_count": null,
      "metadata": {
        "id": "KwuIL3FdAXlZ",
        "colab": {
          "base_uri": "https://localhost:8080/",
          "height": 390
        },
        "outputId": "a3fd3d0a-ea1a-4eee-fb45-9294d0e66038"
      },
      "outputs": [
        {
          "output_type": "stream",
          "name": "stdout",
          "text": [
            "Image shape: (124, 139, 3)\n"
          ]
        },
        {
          "output_type": "display_data",
          "data": {
            "text/plain": [
              "<Figure size 720x432 with 1 Axes>"
            ],
            "image/png": "[encoded data removed]"
          },
          "metadata": {}
        }
      ],
      "source": [
        "# View a random image from the training dataset\n",
        "import random\n",
        "img = view_random_image(target_dir=train_path,\n",
        "                        target_class=random.choice(class_names)) # get a random class name"
      ]
    },
    {
      "cell_type": "markdown",
      "metadata": {
        "id": "7qmejxHxsl9O"
      },
      "source": [
        "# Data Preprocessing"
      ]
    },
    {
      "cell_type": "markdown",
      "metadata": {
        "id": "LH--CKJ0sl9O"
      },
      "source": [
        "## Defining Input Shape"
      ]
    },
    {
      "cell_type": "markdown",
      "metadata": {
        "id": "FXz_fh0bsl9O"
      },
      "source": [
        "**Let's decide on the final dimension of these images.**"
      ]
    },
    {
      "cell_type": "code",
      "execution_count": null,
      "metadata": {
        "id": "yedwAw8Jsl9P",
        "colab": {
          "base_uri": "https://localhost:8080/"
        },
        "outputId": "73d9eb71-3019-4521-f80b-8727aa1a7d4d"
      },
      "outputs": [
        {
          "output_type": "execute_result",
          "data": {
            "text/plain": [
              "(118, 100, 3)"
            ]
          },
          "metadata": {},
          "execution_count": 42
        }
      ],
      "source": [
        "uninfected_cell.shape"
      ]
    },
    {
      "cell_type": "code",
      "execution_count": null,
      "metadata": {
        "id": "zpfsabyPsl9P",
        "colab": {
          "base_uri": "https://localhost:8080/"
        },
        "outputId": "83377de2-e302-48d6-8c95-950aed868e0e"
      },
      "outputs": [
        {
          "output_type": "execute_result",
          "data": {
            "text/plain": [
              "(172, 154, 3)"
            ]
          },
          "metadata": {},
          "execution_count": 43
        }
      ],
      "source": [
        "para_cell.shape"
      ]
    },
    {
      "cell_type": "markdown",
      "metadata": {
        "cellView": "code",
        "id": "c1MICswflLpO",
        "outputId": "976efc35-690f-4c05-a758-e70d72df7d9e"
      },
      "source": [
        "x = []\n",
        "y = []\n",
        "\n",
        "for image in os.listdir(train_path+'uninfected'):\n",
        "    img = imread(train_path+'uninfected/'+image)\n",
        "    d1,d2,_ = img.shape\n",
        "    x.append(d1)\n",
        "    y.append(d2)"
      ]
    },
    {
      "cell_type": "code",
      "execution_count": null,
      "metadata": {
        "id": "Cnndjp3hsl9Q"
      },
      "outputs": [],
      "source": [
        "x = [imread(train_path+'uninfected/'+image).shape[0] for image in os.listdir(train_path+'uninfected')] \n",
        "y = [imread(train_path+'uninfected/'+image).shape[1] for image in os.listdir(train_path+'uninfected')] "
      ]
    },
    {
      "cell_type": "code",
      "execution_count": null,
      "metadata": {
        "id": "I8coq5Crsl9R",
        "colab": {
          "base_uri": "https://localhost:8080/"
        },
        "outputId": "1d3eefce-d7db-4c09-d773-7eacf7fa1cc8"
      },
      "outputs": [
        {
          "output_type": "execute_result",
          "data": {
            "text/plain": [
              "[139, 133, 127, 154, 136]"
            ]
          },
          "metadata": {},
          "execution_count": 45
        }
      ],
      "source": [
        "x[:5]"
      ]
    },
    {
      "cell_type": "code",
      "execution_count": null,
      "metadata": {
        "id": "RZ1WZ16Osl9R",
        "colab": {
          "base_uri": "https://localhost:8080/",
          "height": 429
        },
        "outputId": "a4b8313b-a45f-4670-f493-6efc59773d4d"
      },
      "outputs": [
        {
          "output_type": "stream",
          "name": "stderr",
          "text": [
            "/usr/local/lib/python3.7/dist-packages/seaborn/_decorators.py:43: FutureWarning: Pass the following variables as keyword args: x, y. From version 0.12, the only valid positional argument will be `data`, and passing other arguments without an explicit keyword will result in an error or misinterpretation.\n",
            "  FutureWarning\n"
          ]
        },
        {
          "output_type": "display_data",
          "data": {
            "text/plain": [
              "<Figure size 720x432 with 1 Axes>"
            ],
            "image/png": "[encoded data removed]"
          },
          "metadata": {}
        }
      ],
      "source": [
        "sns.scatterplot(x,y);"
      ]
    },
    {
      "cell_type": "code",
      "execution_count": null,
      "metadata": {
        "id": "CE2dIZyesl9R",
        "colab": {
          "base_uri": "https://localhost:8080/"
        },
        "outputId": "b08c6d05-8847-46df-ffeb-3368d3b920ed"
      },
      "outputs": [
        {
          "output_type": "execute_result",
          "data": {
            "text/plain": [
              "(131.64820899110507, 130.0)"
            ]
          },
          "metadata": {},
          "execution_count": 47
        }
      ],
      "source": [
        "np.mean(x), np.median(x)"
      ]
    },
    {
      "cell_type": "code",
      "execution_count": null,
      "metadata": {
        "id": "j-hPSXm7sl9R",
        "colab": {
          "base_uri": "https://localhost:8080/"
        },
        "outputId": "78336bd8-50a7-47d3-85c0-f40381754ae1"
      },
      "outputs": [
        {
          "output_type": "execute_result",
          "data": {
            "text/plain": [
              "(131.4041990544114, 130.0)"
            ]
          },
          "metadata": {},
          "execution_count": 48
        }
      ],
      "source": [
        "np.mean(y), np.median(y)"
      ]
    },
    {
      "cell_type": "code",
      "execution_count": null,
      "metadata": {
        "id": "XZipjtXssl9S"
      },
      "outputs": [],
      "source": [
        "image_shape = (130,130,3)"
      ]
    },
    {
      "cell_type": "markdown",
      "metadata": {
        "id": "nzfQWmOxsl9S"
      },
      "source": [
        "## Scaling"
      ]
    },
    {
      "cell_type": "markdown",
      "metadata": {
        "id": "mKfeQeWbsl9S"
      },
      "source": [
        "**Let's check the images if they are needed to be scaled or not**"
      ]
    },
    {
      "cell_type": "code",
      "execution_count": null,
      "metadata": {
        "id": "Wh48Bd-1sl9S",
        "colab": {
          "base_uri": "https://localhost:8080/"
        },
        "outputId": "eb6de4e2-8b75-4a13-9d6c-7ef398e01e53"
      },
      "outputs": [
        {
          "output_type": "execute_result",
          "data": {
            "text/plain": [
              "0.81960785"
            ]
          },
          "metadata": {},
          "execution_count": 50
        }
      ],
      "source": [
        "uninfected_cell.max()"
      ]
    },
    {
      "cell_type": "code",
      "execution_count": null,
      "metadata": {
        "id": "X4lGP4Essl9S",
        "colab": {
          "base_uri": "https://localhost:8080/"
        },
        "outputId": "09a2adc4-d699-4102-e673-06da75cd6d8b"
      },
      "outputs": [
        {
          "output_type": "execute_result",
          "data": {
            "text/plain": [
              "0.9372549"
            ]
          },
          "metadata": {},
          "execution_count": 51
        }
      ],
      "source": [
        "para_cell.max()"
      ]
    },
    {
      "cell_type": "markdown",
      "metadata": {
        "id": "o-rpBt-ysl9S"
      },
      "source": [
        "As we see above, all images have been already scaled"
      ]
    },
    {
      "cell_type": "markdown",
      "metadata": {
        "id": "wwoyEQxasl9T"
      },
      "source": [
        "## Image Data Generator"
      ]
    },
    {
      "cell_type": "markdown",
      "metadata": {
        "id": "rMtI4ruOtZBS"
      },
      "source": [
        "**Image Manipulation**\n",
        "\n",
        "We can use the ImageDataGenerator to manipulate the images with rotation, resizing, and scaling so the model becomes more robust to different images that our data set doesn't have. ImageDataGenerator does the followings.\n",
        "\n",
        "* Accepts a batch of images used for training.\n",
        "* Applies a series of random transformations to each image in the batch.\n",
        "* Replaces the original batch with randomly transformed batch.\n",
        "* Training the CNN on this randomly transformed batch.\n",
        "\n",
        "The goal of applying data augmentation is to have a more generalized model.\n",
        "\n",
        "Data augmentation is a way to try and prevent a model overfitting. If your model is overfiting (e.g. the validation loss keeps increasing), you may want to try using data augmentation."
      ]
    },
    {
      "cell_type": "code",
      "execution_count": null,
      "metadata": {
        "id": "PvfAR41Isl9T"
      },
      "outputs": [],
      "source": [
        "from tensorflow.keras.preprocessing.image import ImageDataGenerator"
      ]
    },
    {
      "cell_type": "code",
      "execution_count": null,
      "metadata": {
        "id": "-R0eYE5esl9T"
      },
      "outputs": [],
      "source": [
        "# help(ImageDataGenerator)"
      ]
    },
    {
      "cell_type": "code",
      "execution_count": null,
      "metadata": {
        "id": "CG7aykrysl9T"
      },
      "outputs": [],
      "source": [
        "image_gen = ImageDataGenerator(rotation_range=15, \n",
        "                               width_shift_range=0.10, \n",
        "                               height_shift_range=0.10, \n",
        "                               #rescale=1/255, \n",
        "                               shear_range=0.1, \n",
        "                               zoom_range=0.1, \n",
        "                               horizontal_flip=True, \n",
        "                               fill_mode='nearest')"
      ]
    },
    {
      "cell_type": "code",
      "execution_count": null,
      "metadata": {
        "id": "hYjJqytGsl9T",
        "colab": {
          "base_uri": "https://localhost:8080/",
          "height": 377
        },
        "outputId": "42a2ac4d-a39e-4889-ec56-f5827ec37768"
      },
      "outputs": [
        {
          "output_type": "display_data",
          "data": {
            "text/plain": [
              "<Figure size 720x432 with 1 Axes>"
            ],
            "image/png": "[encoded data removed]"
          },
          "metadata": {}
        }
      ],
      "source": [
        "plt.imshow(para_cell);"
      ]
    },
    {
      "cell_type": "code",
      "execution_count": null,
      "metadata": {
        "id": "EkKJrYeFsl9T",
        "colab": {
          "base_uri": "https://localhost:8080/",
          "height": 377
        },
        "outputId": "9b0cfd64-f6f6-4980-b6a3-fc172814039c"
      },
      "outputs": [
        {
          "output_type": "display_data",
          "data": {
            "text/plain": [
              "<Figure size 720x432 with 1 Axes>"
            ],
            "image/png": "[encoded data removed]"
          },
          "metadata": {}
        }
      ],
      "source": [
        "plt.imshow(image_gen.random_transform(para_cell));"
      ]
    },
    {
      "cell_type": "markdown",
      "metadata": {
        "id": "NXTR3CIv0qm1"
      },
      "source": [
        "### Taking the path to a directory & Generating batches of augmented data\n",
        "\n",
        "flow_from_directory function works with images organized in sub-directories. Your directories should include only one class of images, so one folder per class of images."
      ]
    },
    {
      "cell_type": "code",
      "execution_count": null,
      "metadata": {
        "id": "7_KXVvrtsl9U"
      },
      "outputs": [],
      "source": [
        "#help(image_gen.flow_from_directory)\n",
        "#Takes the path to a directory & generates batches of augmented data."
      ]
    },
    {
      "cell_type": "code",
      "execution_count": null,
      "metadata": {
        "id": "gg7R9FNEsl9U",
        "colab": {
          "base_uri": "https://localhost:8080/"
        },
        "outputId": "c9238c99-c07d-4d15-ab11-7b13f970cc3c"
      },
      "outputs": [
        {
          "output_type": "stream",
          "name": "stdout",
          "text": [
            "Found 24958 images belonging to 2 classes.\n"
          ]
        },
        {
          "output_type": "execute_result",
          "data": {
            "text/plain": [
              "<keras.preprocessing.image.DirectoryIterator at 0x7f2e516f9250>"
            ]
          },
          "metadata": {},
          "execution_count": 56
        }
      ],
      "source": [
        "image_gen.flow_from_directory(train_path)"
      ]
    },
    {
      "cell_type": "code",
      "execution_count": null,
      "metadata": {
        "id": "lDqfD0mUsl9U",
        "colab": {
          "base_uri": "https://localhost:8080/"
        },
        "outputId": "a327da16-f5eb-40b1-85b5-859c38f6ad18"
      },
      "outputs": [
        {
          "output_type": "stream",
          "name": "stdout",
          "text": [
            "Found 2600 images belonging to 2 classes.\n"
          ]
        },
        {
          "output_type": "execute_result",
          "data": {
            "text/plain": [
              "<keras.preprocessing.image.DirectoryIterator at 0x7f2e516f6cd0>"
            ]
          },
          "metadata": {},
          "execution_count": 57
        }
      ],
      "source": [
        "image_gen.flow_from_directory(test_path)"
      ]
    },
    {
      "cell_type": "code",
      "execution_count": null,
      "metadata": {
        "id": "uh3j7j6_00ch"
      },
      "outputs": [],
      "source": [
        "batch_size = 32"
      ]
    },
    {
      "cell_type": "code",
      "source": [
        "image_shape"
      ],
      "metadata": {
        "id": "c8ELVwKrM0jy",
        "colab": {
          "base_uri": "https://localhost:8080/"
        },
        "outputId": "adf87cc7-000f-4dad-990d-738cb0ac7f68"
      },
      "execution_count": null,
      "outputs": [
        {
          "output_type": "execute_result",
          "data": {
            "text/plain": [
              "(130, 130, 3)"
            ]
          },
          "metadata": {},
          "execution_count": 59
        }
      ]
    },
    {
      "cell_type": "code",
      "execution_count": null,
      "metadata": {
        "id": "gV4T5jcwsl9U",
        "colab": {
          "base_uri": "https://localhost:8080/"
        },
        "outputId": "b44a318f-971a-4c39-846e-f4280c00d614"
      },
      "outputs": [
        {
          "output_type": "stream",
          "name": "stdout",
          "text": [
            "Found 24958 images belonging to 2 classes.\n"
          ]
        }
      ],
      "source": [
        "train_image_gen = image_gen.flow_from_directory(directory=train_path,\n",
        "                                                target_size=image_shape[:2],\n",
        "                                                color_mode='rgb',\n",
        "                                                batch_size=batch_size,\n",
        "                                                class_mode='binary',\n",
        "                                                shuffle=True)"
      ]
    },
    {
      "cell_type": "code",
      "execution_count": null,
      "metadata": {
        "id": "KbbqrT2Asl9U",
        "colab": {
          "base_uri": "https://localhost:8080/"
        },
        "outputId": "f5b41d89-6725-4ba5-baf1-fc9cdab1c236"
      },
      "outputs": [
        {
          "output_type": "stream",
          "name": "stdout",
          "text": [
            "Found 2600 images belonging to 2 classes.\n"
          ]
        }
      ],
      "source": [
        "test_image_gen = image_gen.flow_from_directory(directory=test_path,\n",
        "                                               target_size=image_shape[:2],\n",
        "                                               color_mode='rgb',\n",
        "                                               batch_size=batch_size,\n",
        "                                               class_mode='binary',\n",
        "                                               shuffle=False)"
      ]
    },
    {
      "cell_type": "code",
      "execution_count": null,
      "metadata": {
        "id": "efxzYhpisl9V",
        "colab": {
          "base_uri": "https://localhost:8080/"
        },
        "outputId": "3e7cbaa9-f8f3-4d47-bebd-0f2d7ba7fde6"
      },
      "outputs": [
        {
          "output_type": "execute_result",
          "data": {
            "text/plain": [
              "{'parasitized': 0, 'uninfected': 1}"
            ]
          },
          "metadata": {},
          "execution_count": 62
        }
      ],
      "source": [
        "train_image_gen.class_indices"
      ]
    },
    {
      "cell_type": "code",
      "execution_count": null,
      "metadata": {
        "id": "eE82-YIQUHtE",
        "colab": {
          "base_uri": "https://localhost:8080/"
        },
        "outputId": "045e32e4-c386-447f-dd0a-a033f6030d8e"
      },
      "outputs": [
        {
          "output_type": "execute_result",
          "data": {
            "text/plain": [
              "{'parasitized': 0, 'uninfected': 1}"
            ]
          },
          "metadata": {},
          "execution_count": 63
        }
      ],
      "source": [
        "test_image_gen.class_indices"
      ]
    },
    {
      "cell_type": "code",
      "execution_count": null,
      "metadata": {
        "id": "B5r91T4hsl9V"
      },
      "outputs": [],
      "source": [
        "# train_image_gen[0]"
      ]
    },
    {
      "cell_type": "code",
      "execution_count": null,
      "metadata": {
        "id": "g_tNsaxlsl9V",
        "colab": {
          "base_uri": "https://localhost:8080/"
        },
        "outputId": "1c16e076-13eb-47f8-d889-573a5fce8ecb"
      },
      "outputs": [
        {
          "output_type": "execute_result",
          "data": {
            "text/plain": [
              "(32, 130, 130, 3)"
            ]
          },
          "metadata": {},
          "execution_count": 65
        }
      ],
      "source": [
        "train_image_gen[0][0].shape"
      ]
    },
    {
      "cell_type": "code",
      "execution_count": null,
      "metadata": {
        "id": "w08Vuz9y88iG",
        "colab": {
          "base_uri": "https://localhost:8080/"
        },
        "outputId": "c531e6b3-a044-4805-98bc-365baadc7e93"
      },
      "outputs": [
        {
          "output_type": "execute_result",
          "data": {
            "text/plain": [
              "(130, 130, 3)"
            ]
          },
          "metadata": {},
          "execution_count": 66
        }
      ],
      "source": [
        "train_image_gen[0][0][0].shape"
      ]
    },
    {
      "cell_type": "code",
      "execution_count": null,
      "metadata": {
        "id": "kBX9wMYasl9V",
        "colab": {
          "base_uri": "https://localhost:8080/"
        },
        "outputId": "bca7d758-1e92-447e-f3f2-e6a36dde8dba"
      },
      "outputs": [
        {
          "output_type": "execute_result",
          "data": {
            "text/plain": [
              "(780, 82)"
            ]
          },
          "metadata": {},
          "execution_count": 67
        }
      ],
      "source": [
        "len(train_image_gen), len(test_image_gen)"
      ]
    },
    {
      "cell_type": "code",
      "execution_count": null,
      "metadata": {
        "id": "aS4Gj8PGsl9V",
        "colab": {
          "base_uri": "https://localhost:8080/"
        },
        "outputId": "0bf100ca-d8c6-41b9-81fb-1c14b3a3d0f9"
      },
      "outputs": [
        {
          "output_type": "execute_result",
          "data": {
            "text/plain": [
              "(24960, 2624)"
            ]
          },
          "metadata": {},
          "execution_count": 68
        }
      ],
      "source": [
        "len(train_image_gen)*batch_size, len(test_image_gen)*batch_size "
      ]
    },
    {
      "cell_type": "code",
      "execution_count": null,
      "metadata": {
        "id": "ZkqN1GrZ8QSs",
        "colab": {
          "base_uri": "https://localhost:8080/"
        },
        "outputId": "903e4e79-39e6-4c2a-bdb4-21a323de2a8d"
      },
      "outputs": [
        {
          "output_type": "execute_result",
          "data": {
            "text/plain": [
              "(32, 32)"
            ]
          },
          "metadata": {},
          "execution_count": 69
        }
      ],
      "source": [
        "# Get a sample of the training data batch \n",
        "images, labels = train_image_gen.next() # get the 'next' batch of images/labels\n",
        "len(images), len(labels)"
      ]
    },
    {
      "cell_type": "code",
      "execution_count": null,
      "metadata": {
        "id": "7UDSmH8F8aBH",
        "colab": {
          "base_uri": "https://localhost:8080/"
        },
        "outputId": "4be623ed-57f2-4031-da95-11c03b743696"
      },
      "outputs": [
        {
          "output_type": "execute_result",
          "data": {
            "text/plain": [
              "(32, 32)"
            ]
          },
          "metadata": {},
          "execution_count": 70
        }
      ],
      "source": [
        "# Get a sample of the testing data batch \n",
        "images, labels = test_image_gen.next() # get the 'next' batch of images/labels\n",
        "len(images), len(labels)"
      ]
    },
    {
      "cell_type": "markdown",
      "metadata": {
        "id": "McnEpbpKsl9W"
      },
      "source": [
        "# Modelling-1"
      ]
    },
    {
      "cell_type": "code",
      "execution_count": null,
      "metadata": {
        "id": "_4wdkY_Csl9W"
      },
      "outputs": [],
      "source": [
        "from tensorflow.keras.models import Sequential\n",
        "from tensorflow.keras.layers import Activation, Dropout, Flatten, Dense, Conv2D, MaxPooling2D\n",
        "from tensorflow.keras.callbacks import EarlyStopping"
      ]
    },
    {
      "cell_type": "code",
      "execution_count": null,
      "metadata": {
        "id": "CQzvmjcEsl9W"
      },
      "outputs": [],
      "source": [
        "model1 = Sequential()\n",
        "\n",
        "model1.add(Conv2D(filters=32, kernel_size=(3,3), input_shape=image_shape, activation='relu'))\n",
        "model1.add(MaxPooling2D(pool_size=(2, 2)))\n",
        "\n",
        "model1.add(Conv2D(filters=64, kernel_size=(3,3), activation='relu'))\n",
        "model1.add(MaxPooling2D(pool_size=(2, 2)))\n",
        "\n",
        "model1.add(Conv2D(filters=64, kernel_size=(3,3), activation='relu'))\n",
        "model1.add(MaxPooling2D(pool_size=(2, 2)))\n",
        "\n",
        "\n",
        "model1.add(Flatten())\n",
        "\n",
        "\n",
        "model1.add(Dense(128))\n",
        "model1.add(Activation('relu'))\n",
        "\n",
        "model1.add(Dropout(0.5))\n",
        "\n",
        "model1.add(Dense(1))\n",
        "model1.add(Activation('sigmoid'))\n",
        "\n",
        "# optimizer = keras.optimizers.Adam(lr=0.01)\n",
        "model1.compile(loss='binary_crossentropy',\n",
        "              optimizer='adam',\n",
        "              metrics=['accuracy'])"
      ]
    },
    {
      "cell_type": "code",
      "execution_count": null,
      "metadata": {
        "id": "MHI3EEvXsl9W",
        "colab": {
          "base_uri": "https://localhost:8080/"
        },
        "outputId": "e0165be4-8193-48b1-a2f8-2e145778ac75"
      },
      "outputs": [
        {
          "output_type": "stream",
          "name": "stdout",
          "text": [
            "Model: \"sequential\"\n",
            "_________________________________________________________________\n",
            " Layer (type)                Output Shape              Param #   \n",
            "=================================================================\n",
            " conv2d (Conv2D)             (None, 128, 128, 32)      896       \n",
            "                                                                 \n",
            " max_pooling2d (MaxPooling2D  (None, 64, 64, 32)       0         \n",
            " )                                                               \n",
            "                                                                 \n",
            " conv2d_1 (Conv2D)           (None, 62, 62, 64)        18496     \n",
            "                                                                 \n",
            " max_pooling2d_1 (MaxPooling  (None, 31, 31, 64)       0         \n",
            " 2D)                                                             \n",
            "                                                                 \n",
            " conv2d_2 (Conv2D)           (None, 29, 29, 64)        36928     \n",
            "                                                                 \n",
            " max_pooling2d_2 (MaxPooling  (None, 14, 14, 64)       0         \n",
            " 2D)                                                             \n",
            "                                                                 \n",
            " flatten (Flatten)           (None, 12544)             0         \n",
            "                                                                 \n",
            " dense (Dense)               (None, 128)               1605760   \n",
            "                                                                 \n",
            " activation (Activation)     (None, 128)               0         \n",
            "                                                                 \n",
            " dropout (Dropout)           (None, 128)               0         \n",
            "                                                                 \n",
            " dense_1 (Dense)             (None, 1)                 129       \n",
            "                                                                 \n",
            " activation_1 (Activation)   (None, 1)                 0         \n",
            "                                                                 \n",
            "=================================================================\n",
            "Total params: 1,662,209\n",
            "Trainable params: 1,662,209\n",
            "Non-trainable params: 0\n",
            "_________________________________________________________________\n"
          ]
        }
      ],
      "source": [
        "model1.summary()"
      ]
    },
    {
      "cell_type": "code",
      "execution_count": null,
      "metadata": {
        "id": "MQEe7W01sl9W"
      },
      "outputs": [],
      "source": [
        "early_stop = EarlyStopping(monitor='val_loss', patience=2, restore_best_weights = True)"
      ]
    },
    {
      "cell_type": "code",
      "execution_count": null,
      "metadata": {
        "id": "ptJFzuyvsl9X",
        "scrolled": true,
        "colab": {
          "base_uri": "https://localhost:8080/"
        },
        "outputId": "4c2bb7f6-03a3-4b81-d1fe-70ef11aab996"
      },
      "outputs": [
        {
          "output_type": "stream",
          "name": "stdout",
          "text": [
            "Epoch 1/10\n",
            "780/780 [==============================] - 131s 155ms/step - loss: 1.3485 - accuracy: 0.5448 - val_loss: 0.6814 - val_accuracy: 0.5792\n",
            "Epoch 2/10\n",
            "780/780 [==============================] - 120s 154ms/step - loss: 0.6828 - accuracy: 0.5671 - val_loss: 0.6751 - val_accuracy: 0.5992\n",
            "Epoch 3/10\n",
            "780/780 [==============================] - 120s 154ms/step - loss: 0.6737 - accuracy: 0.5879 - val_loss: 0.6775 - val_accuracy: 0.5881\n",
            "Epoch 4/10\n",
            "780/780 [==============================] - 118s 152ms/step - loss: 0.6687 - accuracy: 0.5991 - val_loss: 0.6586 - val_accuracy: 0.6231\n",
            "Epoch 5/10\n",
            "780/780 [==============================] - 120s 154ms/step - loss: 0.4644 - accuracy: 0.7697 - val_loss: 0.2426 - val_accuracy: 0.9215\n",
            "Epoch 6/10\n",
            "780/780 [==============================] - 120s 154ms/step - loss: 0.2137 - accuracy: 0.9331 - val_loss: 0.1933 - val_accuracy: 0.9377\n",
            "Epoch 7/10\n",
            "780/780 [==============================] - 120s 153ms/step - loss: 0.1923 - accuracy: 0.9419 - val_loss: 0.3818 - val_accuracy: 0.9277\n",
            "Epoch 8/10\n",
            "780/780 [==============================] - 120s 153ms/step - loss: 0.1810 - accuracy: 0.9445 - val_loss: 0.1781 - val_accuracy: 0.9435\n",
            "Epoch 9/10\n",
            "780/780 [==============================] - 120s 153ms/step - loss: 0.1690 - accuracy: 0.9480 - val_loss: 0.1652 - val_accuracy: 0.9431\n",
            "Epoch 10/10\n",
            "780/780 [==============================] - 120s 154ms/step - loss: 0.1642 - accuracy: 0.9490 - val_loss: 0.1711 - val_accuracy: 0.9469\n"
          ]
        },
        {
          "output_type": "execute_result",
          "data": {
            "text/plain": [
              "<keras.callbacks.History at 0x7f2e50778b90>"
            ]
          },
          "metadata": {},
          "execution_count": 75
        }
      ],
      "source": [
        "model1.fit(train_image_gen,\n",
        "          epochs=10,\n",
        "          steps_per_epoch=len(train_image_gen),\n",
        "          validation_data=test_image_gen,\n",
        "          validation_steps=len(test_image_gen),\n",
        "          callbacks=[early_stop])"
      ]
    },
    {
      "cell_type": "code",
      "execution_count": null,
      "metadata": {
        "id": "yUXSEkDLsl9X",
        "colab": {
          "base_uri": "https://localhost:8080/"
        },
        "outputId": "7bfdfdb5-c5db-4ce0-b724-193ad49837ff"
      },
      "outputs": [
        {
          "output_type": "execute_result",
          "data": {
            "text/plain": [
              "['loss', 'accuracy']"
            ]
          },
          "metadata": {},
          "execution_count": 76
        }
      ],
      "source": [
        "model1.metrics_names"
      ]
    },
    {
      "cell_type": "code",
      "execution_count": null,
      "metadata": {
        "id": "AIykzWBQsl9X",
        "colab": {
          "base_uri": "https://localhost:8080/",
          "height": 206
        },
        "outputId": "d77a8337-1338-4311-93a3-36d730f73ae6"
      },
      "outputs": [
        {
          "output_type": "execute_result",
          "data": {
            "text/plain": [
              "   loss  accuracy  val_loss  val_accuracy\n",
              "0 1.349     0.545     0.681         0.579\n",
              "1 0.683     0.567     0.675         0.599\n",
              "2 0.674     0.588     0.677         0.588\n",
              "3 0.669     0.599     0.659         0.623\n",
              "4 0.464     0.770     0.243         0.922"
            ],
            "text/html": [
              "\n",
              "  <div id=\"df-0486e87c-818a-4245-adab-78fd703036fd\">\n",
              "    <div class=\"colab-df-container\">\n",
              "      <div>\n",
              "<style scoped>\n",
              "    .dataframe tbody tr th:only-of-type {\n",
              "        vertical-align: middle;\n",
              "    }\n",
              "\n",
              "    .dataframe tbody tr th {\n",
              "        vertical-align: top;\n",
              "    }\n",
              "\n",
              "    .dataframe thead th {\n",
              "        text-align: right;\n",
              "    }\n",
              "</style>\n",
              "<table border=\"1\" class=\"dataframe\">\n",
              "  <thead>\n",
              "    <tr style=\"text-align: right;\">\n",
              "      <th></th>\n",
              "      <th>loss</th>\n",
              "      <th>accuracy</th>\n",
              "      <th>val_loss</th>\n",
              "      <th>val_accuracy</th>\n",
              "    </tr>\n",
              "  </thead>\n",
              "  <tbody>\n",
              "    <tr>\n",
              "      <th>0</th>\n",
              "      <td>1.349</td>\n",
              "      <td>0.545</td>\n",
              "      <td>0.681</td>\n",
              "      <td>0.579</td>\n",
              "    </tr>\n",
              "    <tr>\n",
              "      <th>1</th>\n",
              "      <td>0.683</td>\n",
              "      <td>0.567</td>\n",
              "      <td>0.675</td>\n",
              "      <td>0.599</td>\n",
              "    </tr>\n",
              "    <tr>\n",
              "      <th>2</th>\n",
              "      <td>0.674</td>\n",
              "      <td>0.588</td>\n",
              "      <td>0.677</td>\n",
              "      <td>0.588</td>\n",
              "    </tr>\n",
              "    <tr>\n",
              "      <th>3</th>\n",
              "      <td>0.669</td>\n",
              "      <td>0.599</td>\n",
              "      <td>0.659</td>\n",
              "      <td>0.623</td>\n",
              "    </tr>\n",
              "    <tr>\n",
              "      <th>4</th>\n",
              "      <td>0.464</td>\n",
              "      <td>0.770</td>\n",
              "      <td>0.243</td>\n",
              "      <td>0.922</td>\n",
              "    </tr>\n",
              "  </tbody>\n",
              "</table>\n",
              "</div>\n",
              "      <button class=\"colab-df-convert\" onclick=\"convertToInteractive('df-0486e87c-818a-4245-adab-78fd703036fd')\"\n",
              "              title=\"Convert this dataframe to an interactive table.\"\n",
              "              style=\"display:none;\">\n",
              "        \n",
              "  <svg xmlns=\"http://www.w3.org/2000/svg\" height=\"24px\"viewBox=\"0 0 24 24\"\n",
              "       width=\"24px\">\n",
              "    <path d=\"M0 0h24v24H0V0z\" fill=\"none\"/>\n",
              "    <path d=\"M18.56 5.44l.94 2.06.94-2.06 2.06-.94-2.06-.94-.94-2.06-.94 2.06-2.06.94zm-11 1L8.5 8.5l.94-2.06 2.06-.94-2.06-.94L8.5 2.5l-.94 2.06-2.06.94zm10 10l.94 2.06.94-2.06 2.06-.94-2.06-.94-.94-2.06-.94 2.06-2.06.94z\"/><path d=\"M17.41 7.96l-1.37-1.37c-.4-.4-.92-.59-1.43-.59-.52 0-1.04.2-1.43.59L10.3 9.45l-7.72 7.72c-.78.78-.78 2.05 0 2.83L4 21.41c.39.39.9.59 1.41.59.51 0 1.02-.2 1.41-.59l7.78-7.78 2.81-2.81c.8-.78.8-2.07 0-2.86zM5.41 20L4 18.59l7.72-7.72 1.47 1.35L5.41 20z\"/>\n",
              "  </svg>\n",
              "      </button>\n",
              "      \n",
              "  <style>\n",
              "    .colab-df-container {\n",
              "      display:flex;\n",
              "      flex-wrap:wrap;\n",
              "      gap: 12px;\n",
              "    }\n",
              "\n",
              "    .colab-df-convert {\n",
              "      background-color: #E8F0FE;\n",
              "      border: none;\n",
              "      border-radius: 50%;\n",
              "      cursor: pointer;\n",
              "      display: none;\n",
              "      fill: #1967D2;\n",
              "      height: 32px;\n",
              "      padding: 0 0 0 0;\n",
              "      width: 32px;\n",
              "    }\n",
              "\n",
              "    .colab-df-convert:hover {\n",
              "      background-color: #E2EBFA;\n",
              "      box-shadow: 0px 1px 2px rgba(60, 64, 67, 0.3), 0px 1px 3px 1px rgba(60, 64, 67, 0.15);\n",
              "      fill: #174EA6;\n",
              "    }\n",
              "\n",
              "    [theme=dark] .colab-df-convert {\n",
              "      background-color: #3B4455;\n",
              "      fill: #D2E3FC;\n",
              "    }\n",
              "\n",
              "    [theme=dark] .colab-df-convert:hover {\n",
              "      background-color: #434B5C;\n",
              "      box-shadow: 0px 1px 3px 1px rgba(0, 0, 0, 0.15);\n",
              "      filter: drop-shadow(0px 1px 2px rgba(0, 0, 0, 0.3));\n",
              "      fill: #FFFFFF;\n",
              "    }\n",
              "  </style>\n",
              "\n",
              "      <script>\n",
              "        const buttonEl =\n",
              "          document.querySelector('#df-0486e87c-818a-4245-adab-78fd703036fd button.colab-df-convert');\n",
              "        buttonEl.style.display =\n",
              "          google.colab.kernel.accessAllowed ? 'block' : 'none';\n",
              "\n",
              "        async function convertToInteractive(key) {\n",
              "          const element = document.querySelector('#df-0486e87c-818a-4245-adab-78fd703036fd');\n",
              "          const dataTable =\n",
              "            await google.colab.kernel.invokeFunction('convertToInteractive',\n",
              "                                                     [key], {});\n",
              "          if (!dataTable) return;\n",
              "\n",
              "          const docLinkHtml = 'Like what you see? Visit the ' +\n",
              "            '<a target=\"_blank\" href=https://colab.research.google.com/notebooks/data_table.ipynb>data table notebook</a>'\n",
              "            + ' to learn more about interactive tables.';\n",
              "          element.innerHTML = '';\n",
              "          dataTable['output_type'] = 'display_data';\n",
              "          await google.colab.output.renderOutput(dataTable, element);\n",
              "          const docLink = document.createElement('div');\n",
              "          docLink.innerHTML = docLinkHtml;\n",
              "          element.appendChild(docLink);\n",
              "        }\n",
              "      </script>\n",
              "    </div>\n",
              "  </div>\n",
              "  "
            ]
          },
          "metadata": {},
          "execution_count": 77
        }
      ],
      "source": [
        "summary = pd.DataFrame(model1.history.history)\n",
        "summary.head()"
      ]
    },
    {
      "cell_type": "code",
      "execution_count": null,
      "metadata": {
        "id": "Dcy3L5Whsl9X",
        "colab": {
          "base_uri": "https://localhost:8080/",
          "height": 376
        },
        "outputId": "d1622f2f-f6e7-4f3d-9b8a-b939948756db"
      },
      "outputs": [
        {
          "output_type": "display_data",
          "data": {
            "text/plain": [
              "<Figure size 720x432 with 1 Axes>"
            ],
            "image/png": "[encoded data removed]"
          },
          "metadata": {}
        }
      ],
      "source": [
        "summary[[\"loss\", \"val_loss\"]].plot();"
      ]
    },
    {
      "cell_type": "code",
      "execution_count": null,
      "metadata": {
        "id": "azs1F4o7sl9X",
        "colab": {
          "base_uri": "https://localhost:8080/",
          "height": 374
        },
        "outputId": "ce3ee157-91fe-4ab3-d6c4-6d36bd24c0c8"
      },
      "outputs": [
        {
          "output_type": "display_data",
          "data": {
            "text/plain": [
              "<Figure size 720x432 with 1 Axes>"
            ],
            "image/png": "[encoded data removed]"
          },
          "metadata": {}
        }
      ],
      "source": [
        "summary[[\"accuracy\", \"val_accuracy\"]].plot();"
      ]
    },
    {
      "cell_type": "markdown",
      "metadata": {
        "id": "16_yfUk5sl9Y"
      },
      "source": [
        "# Evaluation on Test Data"
      ]
    },
    {
      "cell_type": "code",
      "execution_count": null,
      "metadata": {
        "id": "Xz95GVTDsl9Y"
      },
      "outputs": [],
      "source": [
        "from sklearn.metrics import classification_report, confusion_matrix"
      ]
    },
    {
      "cell_type": "code",
      "execution_count": null,
      "metadata": {
        "id": "mSBs8sNAsl9Y",
        "colab": {
          "base_uri": "https://localhost:8080/"
        },
        "outputId": "09415cf4-9fb1-414e-c51e-99682d900237"
      },
      "outputs": [
        {
          "output_type": "stream",
          "name": "stdout",
          "text": [
            "82/82 [==============================] - 12s 148ms/step - loss: 0.1761 - accuracy: 0.9515\n",
            "Test loss: 0.1761375069618225\n",
            "Test accuracy: 0.9515384435653687\n"
          ]
        }
      ],
      "source": [
        "score = model1.evaluate(test_image_gen)\n",
        "print('Test loss:', score[0])\n",
        "print('Test accuracy:', score[1])"
      ]
    },
    {
      "cell_type": "code",
      "execution_count": null,
      "metadata": {
        "id": "ZtAfDORssl9Y"
      },
      "outputs": [],
      "source": [
        "pred_prob = model1.predict(test_image_gen)"
      ]
    },
    {
      "cell_type": "code",
      "execution_count": null,
      "metadata": {
        "id": "5PfBiFPlsl9Y",
        "colab": {
          "base_uri": "https://localhost:8080/"
        },
        "outputId": "0a95b76e-25da-4750-a40f-69a128ad91a7"
      },
      "outputs": [
        {
          "output_type": "execute_result",
          "data": {
            "text/plain": [
              "array([[4.5514398e-07],\n",
              "       [2.3619725e-07],\n",
              "       [2.0199798e-06],\n",
              "       ...,\n",
              "       [9.9195975e-01],\n",
              "       [9.9273407e-01],\n",
              "       [9.5885468e-01]], dtype=float32)"
            ]
          },
          "metadata": {},
          "execution_count": 85
        }
      ],
      "source": [
        "pred_prob"
      ]
    },
    {
      "cell_type": "code",
      "execution_count": null,
      "metadata": {
        "id": "qwF2D32fsl9Z"
      },
      "outputs": [],
      "source": [
        "y_pred = pred_prob > 0.5"
      ]
    },
    {
      "cell_type": "code",
      "execution_count": null,
      "metadata": {
        "id": "EP0FHhTSsl9Z",
        "colab": {
          "base_uri": "https://localhost:8080/"
        },
        "outputId": "a1138531-ff3c-4ead-a8d4-4a77d5a54d75"
      },
      "outputs": [
        {
          "output_type": "execute_result",
          "data": {
            "text/plain": [
              "array([[False],\n",
              "       [False],\n",
              "       [False],\n",
              "       ...,\n",
              "       [ True],\n",
              "       [ True],\n",
              "       [ True]])"
            ]
          },
          "metadata": {},
          "execution_count": 87
        }
      ],
      "source": [
        "y_pred"
      ]
    },
    {
      "cell_type": "code",
      "execution_count": null,
      "metadata": {
        "id": "BfPUSYHxsl9a",
        "colab": {
          "base_uri": "https://localhost:8080/"
        },
        "outputId": "fd692397-6f8c-4397-c85e-b018574c81ac"
      },
      "outputs": [
        {
          "output_type": "execute_result",
          "data": {
            "text/plain": [
              "array([0, 0, 0, ..., 1, 1, 1], dtype=int32)"
            ]
          },
          "metadata": {},
          "execution_count": 88
        }
      ],
      "source": [
        "y_test = test_image_gen.classes\n",
        "y_test"
      ]
    },
    {
      "cell_type": "code",
      "execution_count": null,
      "metadata": {
        "id": "DWwI79g1sl9a",
        "colab": {
          "base_uri": "https://localhost:8080/"
        },
        "outputId": "74ef295d-6e50-489f-99c1-6da1fa81c6a9"
      },
      "outputs": [
        {
          "output_type": "stream",
          "name": "stdout",
          "text": [
            "              precision    recall  f1-score   support\n",
            "\n",
            "           0       0.96      0.94      0.95      1300\n",
            "           1       0.94      0.96      0.95      1300\n",
            "\n",
            "    accuracy                           0.95      2600\n",
            "   macro avg       0.95      0.95      0.95      2600\n",
            "weighted avg       0.95      0.95      0.95      2600\n",
            "\n"
          ]
        }
      ],
      "source": [
        "print(classification_report(y_test, y_pred))"
      ]
    },
    {
      "cell_type": "code",
      "execution_count": null,
      "metadata": {
        "id": "KlUFu_UHsl9b",
        "scrolled": true,
        "colab": {
          "base_uri": "https://localhost:8080/"
        },
        "outputId": "ff6f1a8f-abfe-49d3-d439-88e3b11feca8"
      },
      "outputs": [
        {
          "output_type": "execute_result",
          "data": {
            "text/plain": [
              "array([[1216,   84],\n",
              "       [  55, 1245]])"
            ]
          },
          "metadata": {},
          "execution_count": 90
        }
      ],
      "source": [
        "confusion_matrix(y_test, y_pred)"
      ]
    },
    {
      "cell_type": "markdown",
      "metadata": {
        "id": "lPIenRrysl9b"
      },
      "source": [
        "# Modelling-2"
      ]
    },
    {
      "cell_type": "code",
      "execution_count": null,
      "metadata": {
        "id": "6Dnzknlxsl9b"
      },
      "outputs": [],
      "source": [
        "model2 = Sequential()\n",
        "\n",
        "model2.add(Conv2D(filters=64, kernel_size=(3,3),input_shape=image_shape, padding='same', activation='relu',))\n",
        "model2.add(MaxPooling2D(pool_size=(2, 2)))\n",
        "\n",
        "model2.add(Conv2D(filters=128, kernel_size=(3,3), padding='same', activation='relu'))\n",
        "model2.add(Conv2D(filters=128, kernel_size=(3,3), padding='same', activation='relu'))\n",
        "model2.add(MaxPooling2D(pool_size=(2, 2)))\n",
        "\n",
        "model2.add(Conv2D(filters=256, kernel_size=(3,3), padding='same', activation='relu'))\n",
        "model2.add(Conv2D(filters=256, kernel_size=(3,3), padding='same', activation='relu'))\n",
        "model2.add(Conv2D(filters=256, kernel_size=(3,3), padding='same', activation='relu'))\n",
        "model2.add(MaxPooling2D(pool_size=(2, 2)))\n",
        "\n",
        "model2.add(Conv2D(filters=128, kernel_size=(3,3), padding='same', activation='relu'))\n",
        "model2.add(MaxPooling2D(pool_size=(2, 2)))\n",
        "\n",
        "model2.add(Conv2D(filters=64, kernel_size=(3,3), padding='same', activation='relu'))\n",
        "model2.add(MaxPooling2D(pool_size=(2, 2)))\n",
        "\n",
        "\n",
        "model2.add(Flatten())\n",
        "\n",
        "\n",
        "model2.add(Dense(128))\n",
        "model2.add(Activation('relu'))\n",
        "model2.add(Dropout(0.5))\n",
        "\n",
        "model2.add(Dense(1))\n",
        "model2.add(Activation('sigmoid'))\n",
        "\n",
        "model2.compile(loss='binary_crossentropy',\n",
        "              optimizer='adam',\n",
        "              metrics=['accuracy'])"
      ]
    },
    {
      "cell_type": "code",
      "execution_count": null,
      "metadata": {
        "id": "waeAEJGSsl9c",
        "colab": {
          "base_uri": "https://localhost:8080/"
        },
        "outputId": "50290283-2693-4f41-db91-9acc67562a23"
      },
      "outputs": [
        {
          "output_type": "stream",
          "name": "stdout",
          "text": [
            "Model: \"sequential_1\"\n",
            "_________________________________________________________________\n",
            " Layer (type)                Output Shape              Param #   \n",
            "=================================================================\n",
            " conv2d_3 (Conv2D)           (None, 130, 130, 64)      1792      \n",
            "                                                                 \n",
            " max_pooling2d_3 (MaxPooling  (None, 65, 65, 64)       0         \n",
            " 2D)                                                             \n",
            "                                                                 \n",
            " conv2d_4 (Conv2D)           (None, 65, 65, 128)       73856     \n",
            "                                                                 \n",
            " conv2d_5 (Conv2D)           (None, 65, 65, 128)       147584    \n",
            "                                                                 \n",
            " max_pooling2d_4 (MaxPooling  (None, 32, 32, 128)      0         \n",
            " 2D)                                                             \n",
            "                                                                 \n",
            " conv2d_6 (Conv2D)           (None, 32, 32, 256)       295168    \n",
            "                                                                 \n",
            " conv2d_7 (Conv2D)           (None, 32, 32, 256)       590080    \n",
            "                                                                 \n",
            " conv2d_8 (Conv2D)           (None, 32, 32, 256)       590080    \n",
            "                                                                 \n",
            " max_pooling2d_5 (MaxPooling  (None, 16, 16, 256)      0         \n",
            " 2D)                                                             \n",
            "                                                                 \n",
            " conv2d_9 (Conv2D)           (None, 16, 16, 128)       295040    \n",
            "                                                                 \n",
            " max_pooling2d_6 (MaxPooling  (None, 8, 8, 128)        0         \n",
            " 2D)                                                             \n",
            "                                                                 \n",
            " conv2d_10 (Conv2D)          (None, 8, 8, 64)          73792     \n",
            "                                                                 \n",
            " max_pooling2d_7 (MaxPooling  (None, 4, 4, 64)         0         \n",
            " 2D)                                                             \n",
            "                                                                 \n",
            " flatten_1 (Flatten)         (None, 1024)              0         \n",
            "                                                                 \n",
            " dense_2 (Dense)             (None, 128)               131200    \n",
            "                                                                 \n",
            " activation_2 (Activation)   (None, 128)               0         \n",
            "                                                                 \n",
            " dropout_1 (Dropout)         (None, 128)               0         \n",
            "                                                                 \n",
            " dense_3 (Dense)             (None, 1)                 129       \n",
            "                                                                 \n",
            " activation_3 (Activation)   (None, 1)                 0         \n",
            "                                                                 \n",
            "=================================================================\n",
            "Total params: 2,198,721\n",
            "Trainable params: 2,198,721\n",
            "Non-trainable params: 0\n",
            "_________________________________________________________________\n"
          ]
        }
      ],
      "source": [
        "model2.summary()"
      ]
    },
    {
      "cell_type": "code",
      "execution_count": null,
      "metadata": {
        "id": "tLSLjgiPsl9c"
      },
      "outputs": [],
      "source": [
        "early_stop = EarlyStopping(monitor='val_loss', patience=3, restore_best_weights = True)"
      ]
    },
    {
      "cell_type": "code",
      "execution_count": null,
      "metadata": {
        "id": "mVbSg-qLsl9c",
        "scrolled": true,
        "colab": {
          "base_uri": "https://localhost:8080/"
        },
        "outputId": "d4892261-ffa7-4cec-e037-0fc9205dd0ec"
      },
      "outputs": [
        {
          "output_type": "stream",
          "name": "stdout",
          "text": [
            "Epoch 1/8\n",
            "780/780 [==============================] - 145s 181ms/step - loss: 0.5464 - accuracy: 0.6965 - val_loss: 0.2648 - val_accuracy: 0.9104\n",
            "Epoch 2/8\n",
            "780/780 [==============================] - 136s 175ms/step - loss: 0.1830 - accuracy: 0.9465 - val_loss: 0.2721 - val_accuracy: 0.9342\n",
            "Epoch 3/8\n",
            "780/780 [==============================] - 137s 175ms/step - loss: 0.1707 - accuracy: 0.9498 - val_loss: 0.1652 - val_accuracy: 0.9477\n",
            "Epoch 4/8\n",
            "780/780 [==============================] - 136s 175ms/step - loss: 0.1713 - accuracy: 0.9476 - val_loss: 0.1770 - val_accuracy: 0.9438\n",
            "Epoch 5/8\n",
            "780/780 [==============================] - 137s 175ms/step - loss: 0.1637 - accuracy: 0.9492 - val_loss: 0.1608 - val_accuracy: 0.9462\n",
            "Epoch 6/8\n",
            "780/780 [==============================] - 136s 175ms/step - loss: 0.1532 - accuracy: 0.9532 - val_loss: 0.1561 - val_accuracy: 0.9477\n",
            "Epoch 7/8\n",
            "780/780 [==============================] - 136s 175ms/step - loss: 0.1537 - accuracy: 0.9526 - val_loss: 0.1560 - val_accuracy: 0.9481\n",
            "Epoch 8/8\n",
            "780/780 [==============================] - 136s 175ms/step - loss: 0.1537 - accuracy: 0.9532 - val_loss: 0.1509 - val_accuracy: 0.9519\n"
          ]
        },
        {
          "output_type": "execute_result",
          "data": {
            "text/plain": [
              "<keras.callbacks.History at 0x7f2e3426a390>"
            ]
          },
          "metadata": {},
          "execution_count": 93
        }
      ],
      "source": [
        "model2.fit(train_image_gen,\n",
        "          epochs=8,\n",
        "          steps_per_epoch=len(train_image_gen),\n",
        "          validation_data=test_image_gen,\n",
        "          validation_steps=len(test_image_gen),\n",
        "          callbacks=[early_stop])"
      ]
    },
    {
      "cell_type": "code",
      "execution_count": null,
      "metadata": {
        "id": "CiIRPi0qsl9c",
        "colab": {
          "base_uri": "https://localhost:8080/"
        },
        "outputId": "eb74bcfd-0620-433d-9941-a770294032d7"
      },
      "outputs": [
        {
          "output_type": "execute_result",
          "data": {
            "text/plain": [
              "['loss', 'accuracy']"
            ]
          },
          "metadata": {},
          "execution_count": 94
        }
      ],
      "source": [
        "model2.metrics_names"
      ]
    },
    {
      "cell_type": "code",
      "execution_count": null,
      "metadata": {
        "id": "28IfaCRpsl9d",
        "colab": {
          "base_uri": "https://localhost:8080/",
          "height": 206
        },
        "outputId": "ceceb7a5-fc18-4e90-fead-b5c5cef77d02"
      },
      "outputs": [
        {
          "output_type": "execute_result",
          "data": {
            "text/plain": [
              "   loss  accuracy  val_loss  val_accuracy\n",
              "0 0.546     0.696     0.265         0.910\n",
              "1 0.183     0.946     0.272         0.934\n",
              "2 0.171     0.950     0.165         0.948\n",
              "3 0.171     0.948     0.177         0.944\n",
              "4 0.164     0.949     0.161         0.946"
            ],
            "text/html": [
              "\n",
              "  <div id=\"df-2c2139d2-60fa-4918-86cc-7cd33b332873\">\n",
              "    <div class=\"colab-df-container\">\n",
              "      <div>\n",
              "<style scoped>\n",
              "    .dataframe tbody tr th:only-of-type {\n",
              "        vertical-align: middle;\n",
              "    }\n",
              "\n",
              "    .dataframe tbody tr th {\n",
              "        vertical-align: top;\n",
              "    }\n",
              "\n",
              "    .dataframe thead th {\n",
              "        text-align: right;\n",
              "    }\n",
              "</style>\n",
              "<table border=\"1\" class=\"dataframe\">\n",
              "  <thead>\n",
              "    <tr style=\"text-align: right;\">\n",
              "      <th></th>\n",
              "      <th>loss</th>\n",
              "      <th>accuracy</th>\n",
              "      <th>val_loss</th>\n",
              "      <th>val_accuracy</th>\n",
              "    </tr>\n",
              "  </thead>\n",
              "  <tbody>\n",
              "    <tr>\n",
              "      <th>0</th>\n",
              "      <td>0.546</td>\n",
              "      <td>0.696</td>\n",
              "      <td>0.265</td>\n",
              "      <td>0.910</td>\n",
              "    </tr>\n",
              "    <tr>\n",
              "      <th>1</th>\n",
              "      <td>0.183</td>\n",
              "      <td>0.946</td>\n",
              "      <td>0.272</td>\n",
              "      <td>0.934</td>\n",
              "    </tr>\n",
              "    <tr>\n",
              "      <th>2</th>\n",
              "      <td>0.171</td>\n",
              "      <td>0.950</td>\n",
              "      <td>0.165</td>\n",
              "      <td>0.948</td>\n",
              "    </tr>\n",
              "    <tr>\n",
              "      <th>3</th>\n",
              "      <td>0.171</td>\n",
              "      <td>0.948</td>\n",
              "      <td>0.177</td>\n",
              "      <td>0.944</td>\n",
              "    </tr>\n",
              "    <tr>\n",
              "      <th>4</th>\n",
              "      <td>0.164</td>\n",
              "      <td>0.949</td>\n",
              "      <td>0.161</td>\n",
              "      <td>0.946</td>\n",
              "    </tr>\n",
              "  </tbody>\n",
              "</table>\n",
              "</div>\n",
              "      <button class=\"colab-df-convert\" onclick=\"convertToInteractive('df-2c2139d2-60fa-4918-86cc-7cd33b332873')\"\n",
              "              title=\"Convert this dataframe to an interactive table.\"\n",
              "              style=\"display:none;\">\n",
              "        \n",
              "  <svg xmlns=\"http://www.w3.org/2000/svg\" height=\"24px\"viewBox=\"0 0 24 24\"\n",
              "       width=\"24px\">\n",
              "    <path d=\"M0 0h24v24H0V0z\" fill=\"none\"/>\n",
              "    <path d=\"M18.56 5.44l.94 2.06.94-2.06 2.06-.94-2.06-.94-.94-2.06-.94 2.06-2.06.94zm-11 1L8.5 8.5l.94-2.06 2.06-.94-2.06-.94L8.5 2.5l-.94 2.06-2.06.94zm10 10l.94 2.06.94-2.06 2.06-.94-2.06-.94-.94-2.06-.94 2.06-2.06.94z\"/><path d=\"M17.41 7.96l-1.37-1.37c-.4-.4-.92-.59-1.43-.59-.52 0-1.04.2-1.43.59L10.3 9.45l-7.72 7.72c-.78.78-.78 2.05 0 2.83L4 21.41c.39.39.9.59 1.41.59.51 0 1.02-.2 1.41-.59l7.78-7.78 2.81-2.81c.8-.78.8-2.07 0-2.86zM5.41 20L4 18.59l7.72-7.72 1.47 1.35L5.41 20z\"/>\n",
              "  </svg>\n",
              "      </button>\n",
              "      \n",
              "  <style>\n",
              "    .colab-df-container {\n",
              "      display:flex;\n",
              "      flex-wrap:wrap;\n",
              "      gap: 12px;\n",
              "    }\n",
              "\n",
              "    .colab-df-convert {\n",
              "      background-color: #E8F0FE;\n",
              "      border: none;\n",
              "      border-radius: 50%;\n",
              "      cursor: pointer;\n",
              "      display: none;\n",
              "      fill: #1967D2;\n",
              "      height: 32px;\n",
              "      padding: 0 0 0 0;\n",
              "      width: 32px;\n",
              "    }\n",
              "\n",
              "    .colab-df-convert:hover {\n",
              "      background-color: #E2EBFA;\n",
              "      box-shadow: 0px 1px 2px rgba(60, 64, 67, 0.3), 0px 1px 3px 1px rgba(60, 64, 67, 0.15);\n",
              "      fill: #174EA6;\n",
              "    }\n",
              "\n",
              "    [theme=dark] .colab-df-convert {\n",
              "      background-color: #3B4455;\n",
              "      fill: #D2E3FC;\n",
              "    }\n",
              "\n",
              "    [theme=dark] .colab-df-convert:hover {\n",
              "      background-color: #434B5C;\n",
              "      box-shadow: 0px 1px 3px 1px rgba(0, 0, 0, 0.15);\n",
              "      filter: drop-shadow(0px 1px 2px rgba(0, 0, 0, 0.3));\n",
              "      fill: #FFFFFF;\n",
              "    }\n",
              "  </style>\n",
              "\n",
              "      <script>\n",
              "        const buttonEl =\n",
              "          document.querySelector('#df-2c2139d2-60fa-4918-86cc-7cd33b332873 button.colab-df-convert');\n",
              "        buttonEl.style.display =\n",
              "          google.colab.kernel.accessAllowed ? 'block' : 'none';\n",
              "\n",
              "        async function convertToInteractive(key) {\n",
              "          const element = document.querySelector('#df-2c2139d2-60fa-4918-86cc-7cd33b332873');\n",
              "          const dataTable =\n",
              "            await google.colab.kernel.invokeFunction('convertToInteractive',\n",
              "                                                     [key], {});\n",
              "          if (!dataTable) return;\n",
              "\n",
              "          const docLinkHtml = 'Like what you see? Visit the ' +\n",
              "            '<a target=\"_blank\" href=https://colab.research.google.com/notebooks/data_table.ipynb>data table notebook</a>'\n",
              "            + ' to learn more about interactive tables.';\n",
              "          element.innerHTML = '';\n",
              "          dataTable['output_type'] = 'display_data';\n",
              "          await google.colab.output.renderOutput(dataTable, element);\n",
              "          const docLink = document.createElement('div');\n",
              "          docLink.innerHTML = docLinkHtml;\n",
              "          element.appendChild(docLink);\n",
              "        }\n",
              "      </script>\n",
              "    </div>\n",
              "  </div>\n",
              "  "
            ]
          },
          "metadata": {},
          "execution_count": 95
        }
      ],
      "source": [
        "summary = pd.DataFrame(model2.history.history)\n",
        "summary.head()"
      ]
    },
    {
      "cell_type": "code",
      "execution_count": null,
      "metadata": {
        "id": "zyO6Cmv_sl9d",
        "colab": {
          "base_uri": "https://localhost:8080/",
          "height": 374
        },
        "outputId": "c20ac324-c732-48a8-a6b9-b4bf74ea7f40"
      },
      "outputs": [
        {
          "output_type": "display_data",
          "data": {
            "text/plain": [
              "<Figure size 720x432 with 1 Axes>"
            ],
            "image/png": "[encoded data removed]"
          },
          "metadata": {}
        }
      ],
      "source": [
        "summary[[\"loss\", \"val_loss\"]].plot();"
      ]
    },
    {
      "cell_type": "code",
      "execution_count": null,
      "metadata": {
        "id": "_D-FnA7Ksl9d",
        "colab": {
          "base_uri": "https://localhost:8080/",
          "height": 374
        },
        "outputId": "65ab1c1b-e049-4b65-87f7-69007979ccdb"
      },
      "outputs": [
        {
          "output_type": "display_data",
          "data": {
            "text/plain": [
              "<Figure size 720x432 with 1 Axes>"
            ],
            "image/png": "[encoded data removed]"
          },
          "metadata": {}
        }
      ],
      "source": [
        "summary[[\"accuracy\", \"val_accuracy\"]].plot();"
      ]
    },
    {
      "cell_type": "markdown",
      "metadata": {
        "id": "F2bTLAvQsl9d"
      },
      "source": [
        "# Evaluation on Test Data"
      ]
    },
    {
      "cell_type": "code",
      "execution_count": null,
      "metadata": {
        "id": "rKRt861Wsl9e",
        "colab": {
          "base_uri": "https://localhost:8080/"
        },
        "outputId": "88be62f1-eaf4-4786-94c3-100d3d06cc88"
      },
      "outputs": [
        {
          "output_type": "stream",
          "name": "stdout",
          "text": [
            "82/82 [==============================] - 12s 142ms/step - loss: 0.1474 - accuracy: 0.9512\n",
            "Test loss: 0.14738693833351135\n",
            "Test accuracy: 0.9511538743972778\n"
          ]
        }
      ],
      "source": [
        "score = model2.evaluate(test_image_gen)\n",
        "print('Test loss:', score[0])\n",
        "print('Test accuracy:', score[1])"
      ]
    },
    {
      "cell_type": "code",
      "execution_count": null,
      "metadata": {
        "id": "kP3oobifsl9e"
      },
      "outputs": [],
      "source": [
        "pred_prob = model2.predict(test_image_gen)"
      ]
    },
    {
      "cell_type": "code",
      "execution_count": null,
      "metadata": {
        "id": "93Jub8WGsl9f"
      },
      "outputs": [],
      "source": [
        "y_pred = pred_prob > 0.5"
      ]
    },
    {
      "cell_type": "code",
      "execution_count": null,
      "metadata": {
        "id": "sTWX-UTMsl9f",
        "colab": {
          "base_uri": "https://localhost:8080/"
        },
        "outputId": "24bfacc8-1386-4b78-abed-5ad0aba5ea7e"
      },
      "outputs": [
        {
          "output_type": "stream",
          "name": "stdout",
          "text": [
            "              precision    recall  f1-score   support\n",
            "\n",
            "           0       0.96      0.95      0.95      1300\n",
            "           1       0.95      0.96      0.95      1300\n",
            "\n",
            "    accuracy                           0.95      2600\n",
            "   macro avg       0.95      0.95      0.95      2600\n",
            "weighted avg       0.95      0.95      0.95      2600\n",
            "\n"
          ]
        }
      ],
      "source": [
        "print(classification_report(y_test, y_pred))"
      ]
    },
    {
      "cell_type": "markdown",
      "source": [
        "                precision    recall  f1-score   support\n",
        "\n",
        "           0       0.96      0.93      0.95      1300\n",
        "           1       0.93      0.97      0.95      1300\n",
        "\n",
        "    accuracy                           0.95      2600\n",
        "   macro avg       0.95      0.95      0.95      2600\n",
        "weighted avg       0.95      0.95      0.95      2600"
      ],
      "metadata": {
        "id": "hcH0w1R-VONi"
      }
    },
    {
      "cell_type": "code",
      "execution_count": null,
      "metadata": {
        "id": "oUdsEhpJsl9g",
        "colab": {
          "base_uri": "https://localhost:8080/"
        },
        "outputId": "b84562ef-02cf-4abc-d430-f7a032015e31"
      },
      "outputs": [
        {
          "output_type": "execute_result",
          "data": {
            "text/plain": [
              "array([[1233,   67],\n",
              "       [  55, 1245]])"
            ]
          },
          "metadata": {},
          "execution_count": 102
        }
      ],
      "source": [
        "confusion_matrix(y_test, y_pred)"
      ]
    },
    {
      "cell_type": "code",
      "execution_count": null,
      "metadata": {
        "id": "WR3JOvQhsl9g"
      },
      "outputs": [],
      "source": [
        "model1.save('malaria_model.h5')"
      ]
    },
    {
      "cell_type": "markdown",
      "metadata": {
        "id": "k17LqDfKsl9g"
      },
      "source": [
        "# Prediction"
      ]
    },
    {
      "cell_type": "code",
      "execution_count": null,
      "metadata": {
        "id": "HMDO0Dgv194o"
      },
      "outputs": [],
      "source": [
        "from tensorflow.keras.models import load_model\n",
        "from tensorflow.keras.preprocessing import image"
      ]
    },
    {
      "cell_type": "code",
      "execution_count": null,
      "metadata": {
        "id": "p4_7g3rEDiJ7"
      },
      "outputs": [],
      "source": [
        "model=load_model('malaria_model.h5')"
      ]
    },
    {
      "cell_type": "code",
      "execution_count": null,
      "metadata": {
        "id": "PLkgTS3cGHTv",
        "colab": {
          "base_uri": "https://localhost:8080/",
          "height": 35
        },
        "outputId": "e38a91bd-a43e-4508-b964-46f4b2b1aed5"
      },
      "outputs": [
        {
          "output_type": "execute_result",
          "data": {
            "text/plain": [
              "'uninfected'"
            ],
            "application/vnd.google.colaboratory.intrinsic+json": {
              "type": "string"
            }
          },
          "metadata": {},
          "execution_count": 106
        }
      ],
      "source": [
        "target_class=random.choice(class_names)\n",
        "target_class"
      ]
    },
    {
      "cell_type": "code",
      "execution_count": null,
      "metadata": {
        "id": "8paR170UBXzt",
        "colab": {
          "base_uri": "https://localhost:8080/"
        },
        "outputId": "1555f725-c095-4d44-92c7-3901145bd4d2"
      },
      "outputs": [
        {
          "output_type": "execute_result",
          "data": {
            "text/plain": [
              "['C105P66ThinF_IMG_20150924_100655_cell_14.png']"
            ]
          },
          "metadata": {},
          "execution_count": 107
        }
      ],
      "source": [
        "random_image = random.sample(os.listdir(test_path + target_class), 1)\n",
        "random_image"
      ]
    },
    {
      "cell_type": "code",
      "execution_count": null,
      "metadata": {
        "id": "oeLS4RgHCCm6",
        "colab": {
          "base_uri": "https://localhost:8080/",
          "height": 35
        },
        "outputId": "72125923-7aef-42e1-9af9-050e6a750a97"
      },
      "outputs": [
        {
          "output_type": "execute_result",
          "data": {
            "text/plain": [
              "'cell_images/test/uninfected/C105P66ThinF_IMG_20150924_100655_cell_14.png'"
            ],
            "application/vnd.google.colaboratory.intrinsic+json": {
              "type": "string"
            }
          },
          "metadata": {},
          "execution_count": 108
        }
      ],
      "source": [
        "image_path = test_path + target_class + \"/\" + random_image[0]\n",
        "image_path"
      ]
    },
    {
      "cell_type": "code",
      "execution_count": null,
      "metadata": {
        "id": "RCxuuqwOsl9h"
      },
      "outputs": [],
      "source": [
        "my_image = image.load_img(image_path, target_size=image_shape)"
      ]
    },
    {
      "cell_type": "code",
      "execution_count": null,
      "metadata": {
        "id": "3GtFgC0gsl9h",
        "colab": {
          "base_uri": "https://localhost:8080/",
          "height": 147
        },
        "outputId": "529b9673-26de-417b-9859-4386c18d64ca"
      },
      "outputs": [
        {
          "output_type": "execute_result",
          "data": {
            "text/plain": [
              "<PIL.Image.Image image mode=RGB size=130x130 at 0x7F2E51753350>"
            ],
            "image/png": "[encoded data removed]"
          },
          "metadata": {},
          "execution_count": 110
        }
      ],
      "source": [
        "my_image"
      ]
    },
    {
      "cell_type": "code",
      "execution_count": null,
      "metadata": {
        "id": "-wfKWRy55R_1",
        "colab": {
          "base_uri": "https://localhost:8080/"
        },
        "outputId": "3dcb5604-e447-462d-a28c-ca7b4748a540"
      },
      "outputs": [
        {
          "output_type": "execute_result",
          "data": {
            "text/plain": [
              "PIL.Image.Image"
            ]
          },
          "metadata": {},
          "execution_count": 111
        }
      ],
      "source": [
        "type(my_image)"
      ]
    },
    {
      "cell_type": "code",
      "execution_count": null,
      "metadata": {
        "id": "Q9J8ngv-TVIV"
      },
      "outputs": [],
      "source": [
        "#my_image = np.array(my_image)\n",
        "my_image = image.img_to_array(my_image)"
      ]
    },
    {
      "cell_type": "code",
      "execution_count": null,
      "metadata": {
        "id": "IJfZ-ILKsl9i",
        "colab": {
          "base_uri": "https://localhost:8080/"
        },
        "outputId": "a64d5d4a-26bf-4510-cc89-27c5b9f9cb8d"
      },
      "outputs": [
        {
          "output_type": "execute_result",
          "data": {
            "text/plain": [
              "(130, 130, 3)"
            ]
          },
          "metadata": {},
          "execution_count": 113
        }
      ],
      "source": [
        "my_image.shape"
      ]
    },
    {
      "cell_type": "code",
      "execution_count": null,
      "metadata": {
        "id": "n9-XbB8Rsl9i"
      },
      "outputs": [],
      "source": [
        "my_image = np.expand_dims(my_image, axis=0)"
      ]
    },
    {
      "cell_type": "code",
      "execution_count": null,
      "metadata": {
        "id": "ZuV5DH_fsl9i",
        "colab": {
          "base_uri": "https://localhost:8080/"
        },
        "outputId": "d04eb541-3e99-4de5-f21e-b8f81f1df732"
      },
      "outputs": [
        {
          "output_type": "execute_result",
          "data": {
            "text/plain": [
              "(1, 130, 130, 3)"
            ]
          },
          "metadata": {},
          "execution_count": 115
        }
      ],
      "source": [
        "my_image.shape"
      ]
    },
    {
      "cell_type": "code",
      "execution_count": null,
      "metadata": {
        "id": "p5wQ4c6Zsl9i",
        "colab": {
          "base_uri": "https://localhost:8080/"
        },
        "outputId": "0ff34289-d3f5-4993-9690-05f53bf77dbe"
      },
      "outputs": [
        {
          "output_type": "execute_result",
          "data": {
            "text/plain": [
              "array([[0.99920636]], dtype=float32)"
            ]
          },
          "metadata": {},
          "execution_count": 116
        }
      ],
      "source": [
        "model.predict(my_image)"
      ]
    },
    {
      "cell_type": "code",
      "execution_count": null,
      "metadata": {
        "id": "ETuvfYOksl9i",
        "colab": {
          "base_uri": "https://localhost:8080/"
        },
        "outputId": "0dfd98cb-f7aa-4ac1-a6bc-620ff00b544f"
      },
      "outputs": [
        {
          "output_type": "execute_result",
          "data": {
            "text/plain": [
              "{'parasitized': 0, 'uninfected': 1}"
            ]
          },
          "metadata": {},
          "execution_count": 117
        }
      ],
      "source": [
        "train_image_gen.class_indices"
      ]
    },
    {
      "cell_type": "code",
      "execution_count": null,
      "metadata": {
        "id": "v9okpvkVD_aM"
      },
      "outputs": [],
      "source": [
        "def pred_and_plot(model, img_size):\n",
        "  \"\"\"\n",
        "  Imports an image located at filename, makes a prediction on it with\n",
        "  a trained model and plots the image with the predicted class as the title.\n",
        "  \"\"\"\n",
        "  # Import the target image and preprocess it\n",
        "  target_class=random.choice(class_names)\n",
        "  random_image = random.sample(os.listdir(test_path + target_class), 1)\n",
        "  img_path = test_path + target_class + \"/\" + random_image[0]\n",
        "  img = image.load_img(img_path, target_size=img_size)\n",
        "  img = np.array(img)\n",
        "  \n",
        "  # Make a prediction\n",
        "  pred = model.predict(np.expand_dims(img, axis=0))\n",
        "  print(\"prediction_probability: \", pred.max())\n",
        "\n",
        "  # Get the predicted class\n",
        "  if len(pred[0]) > 1: # check for multi-class\n",
        "    pred_class = class_names[pred.argmax()] # if more than one output, take the max\n",
        "  else:\n",
        "    pred_class = class_names[int(tf.round(pred)[0][0])] # if only one output, round\n",
        "\n",
        "  # Plot the image and predicted class\n",
        "  plt.imshow(img)\n",
        "  plt.title(f\"Prediction: {pred_class}\")\n",
        "  plt.axis(False);"
      ]
    },
    {
      "cell_type": "code",
      "execution_count": null,
      "metadata": {
        "id": "In7S6mq_HLvu",
        "colab": {
          "base_uri": "https://localhost:8080/",
          "height": 165
        },
        "outputId": "7d02d614-294c-4b84-cf92-f439f72d4547"
      },
      "outputs": [
        {
          "output_type": "error",
          "ename": "NameError",
          "evalue": "ignored",
          "traceback": [
            "\u001b[0;31m---------------------------------------------------------------------------\u001b[0m",
            "\u001b[0;31mNameError\u001b[0m                                 Traceback (most recent call last)",
            "\u001b[0;32m<ipython-input-1-8b02071d8f37>\u001b[0m in \u001b[0;36m<module>\u001b[0;34m\u001b[0m\n\u001b[0;32m----> 1\u001b[0;31m \u001b[0mpred_and_plot\u001b[0m\u001b[0;34m(\u001b[0m\u001b[0mmodel\u001b[0m\u001b[0;34m,\u001b[0m \u001b[0;34m(\u001b[0m\u001b[0;36m130\u001b[0m\u001b[0;34m,\u001b[0m \u001b[0;36m130\u001b[0m\u001b[0;34m)\u001b[0m\u001b[0;34m)\u001b[0m\u001b[0;34m\u001b[0m\u001b[0;34m\u001b[0m\u001b[0m\n\u001b[0m",
            "\u001b[0;31mNameError\u001b[0m: name 'pred_and_plot' is not defined"
          ]
        }
      ],
      "source": [
        "pred_and_plot(model, (130, 130))"
      ]
    },
    {
      "cell_type": "markdown",
      "metadata": {
        "id": "bQL6IJEAsl9j"
      },
      "source": [
        "___\n",
        "\n",
        "<p style=\"text-align: center;\"><img src=\"https://docs.google.com/uc?id=1lY0Uj5R04yMY3-ZppPWxqCr5pvBLYPnV\" class=\"img-fluid\" alt=\"CLRSWY\"></p>\n",
        "\n",
        "___"
      ]
    }
  ],
  "metadata": {
    "accelerator": "GPU",
    "colab": {
      "collapsed_sections": [],
      "provenance": []
    },
    "kernelspec": {
      "display_name": "Python 3",
      "language": "python",
      "name": "python3"
    },
    "language_info": {
      "codemirror_mode": {
        "name": "ipython",
        "version": 3
      },
      "file_extension": ".py",
      "mimetype": "text/x-python",
      "name": "python",
      "nbconvert_exporter": "python",
      "pygments_lexer": "ipython3",
      "version": "3.7.6"
    },
    "toc": {
      "base_numbering": 1,
      "nav_menu": {},
      "number_sections": false,
      "sideBar": true,
      "skip_h1_title": false,
      "title_cell": "Table of Contents",
      "title_sidebar": "Contents",
      "toc_cell": false,
      "toc_position": {},
      "toc_section_display": true,
      "toc_window_display": true
    },
    "gpuClass": "standard"
  },
  "nbformat": 4,
  "nbformat_minor": 0
}